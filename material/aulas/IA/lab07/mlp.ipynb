{
 "cells": [
  {
   "cell_type": "markdown",
   "id": "29a20169",
   "metadata": {
    "id": "29a20169"
   },
   "source": [
    "## 2. Aprendizagem de máquina\n",
    "\n",
    "### Objetivos\n",
    "\n",
    "  - Praticar os algoritmos Perceptron e multilayer Perceptron (MLP)\n",
    "  - Conhecer uma intuição sobre função de ativação, backpropagation\n",
    "  - Conhecer e praticar o framework TensorFlow\n",
    "  "
   ]
  },
  {
   "cell_type": "markdown",
   "id": "4f89f763",
   "metadata": {
    "id": "4f89f763"
   },
   "source": [
    "## Perceptron\n",
    "\n",
    "\n",
    "Relembrando o neuronio artificial:\n",
    "    \n",
    "\n",
    "<img src=\"https://github.com/arnaldojr/cognitivecomputing/blob/master/material/aulas/IA/lab07/img18.gif?raw=1\">"
   ]
  },
  {
   "cell_type": "markdown",
   "id": "3cdafb12",
   "metadata": {
    "id": "3cdafb12"
   },
   "source": [
    "## Desafio1\n",
    "\n",
    "\n",
    "Calcule a saida do perceptron abaixo:\n",
    "\n",
    "<img src=\"https://github.com/arnaldojr/cognitivecomputing/blob/master/material/aulas/IA/lab07/perceptron.png?raw=1\">\n",
    "\n",
    "x0 = 2;\n",
    "x1 = 0;\n",
    "x2 = -1,24;\n",
    "bias = 1;\n",
    "w0 = 0;\n",
    "w1 = 2;\n",
    "w3 = 1;\n",
    "função de ativação = Heaviside\n"
   ]
  },
  {
   "cell_type": "markdown",
   "id": "af1effa7",
   "metadata": {
    "id": "af1effa7"
   },
   "source": [
    "### Resposta:\n",
    "\n"
   ]
  },
  {
   "cell_type": "markdown",
   "id": "79991c00",
   "metadata": {
    "id": "79991c00"
   },
   "source": [
    "### Implementação de uma rede perceptron\n",
    "\n",
    "Vamos usar um framework de machine learnning chamado TensorFlow/keras para fazer esta implementação.\n",
    "\n",
    "pip install tensorflow"
   ]
  },
  {
   "cell_type": "code",
   "execution_count": 23,
   "id": "02eec25d",
   "metadata": {
    "id": "a905a060"
   },
   "outputs": [],
   "source": [
    "import tensorflow as tf\n",
    "from tensorflow import keras\n"
   ]
  },
  {
   "cell_type": "code",
   "execution_count": 25,
   "id": "42240d49",
   "metadata": {
    "colab": {
     "base_uri": "https://localhost:8080/"
    },
    "id": "37e76d24",
    "outputId": "19d459db-382e-41a2-ba24-fdbcf3733565"
   },
   "outputs": [
    {
     "name": "stdout",
     "output_type": "stream",
     "text": [
      "Model: \"sequential_4\"\n",
      "_________________________________________________________________\n",
      " Layer (type)                Output Shape              Param #   \n",
      "=================================================================\n",
      " dense_4 (Dense)             (None, 1)                 2         \n",
      "                                                                 \n",
      "=================================================================\n",
      "Total params: 2 (8.00 Byte)\n",
      "Trainable params: 2 (8.00 Byte)\n",
      "Non-trainable params: 0 (0.00 Byte)\n",
      "_________________________________________________________________\n"
     ]
    }
   ],
   "source": [
    "from tensorflow.keras import layers\n",
    "\n",
    "\n",
    "model = keras.Sequential([\n",
    "    layers.Dense(units=1, input_shape=[1])\n",
    "])\n",
    "\n",
    "model.summary()\n"
   ]
  },
  {
   "cell_type": "markdown",
   "id": "aefd904c",
   "metadata": {
    "id": "aefd904c"
   },
   "source": [
    "## Layers\n",
    "\n",
    "O arranjo de neuronios define a quantidade de camadas ou `layers` que a rede neural possui na rede perceptron possui apenas uma camada. Em uma rede MLP (multlayer perceptron) possui além das camadas de entrada e saída, camadas ocultas ou `hiden layers`, essas redes tambem são conhecidas por redes densas ou fully-connected.\n",
    "\n",
    "\n",
    "<img src=\"https://github.com/arnaldojr/cognitivecomputing/blob/master/material/aulas/IA/lab07/perceptron1.png?raw=1\">\n"
   ]
  },
  {
   "cell_type": "markdown",
   "id": "9934aa14",
   "metadata": {
    "id": "9934aa14"
   },
   "source": [
    "## Funão de ativação\n",
    "\n",
    "É basicamente uma função matematica que é responsavel por ativar ou não a saída do neuronio. Dentre as mais comuns se destaca a função ReLU (Rectifier linear unit)\n",
    "\n",
    "\n",
    "<img src=\"https://github.com/arnaldojr/cognitivecomputing/blob/master/material/aulas/IA/lab07/perceptron2.png?raw=1\">\n",
    "\n",
    "Outras funções de ativação muito utilizadas são:\n",
    "\n",
    " - softplus\n",
    " - elu\n",
    " - sigmoid\n",
    " - tanh\n",
    "\n"
   ]
  },
  {
   "cell_type": "markdown",
   "id": "a1fb104a",
   "metadata": {
    "id": "a1fb104a"
   },
   "source": [
    "### Desafio 2\n",
    "\n",
    "Implemente a rede MLP abaixo usando TensorFlor/keras: função de ativação Relu\n",
    "\n",
    "<img src=\"https://github.com/arnaldojr/cognitivecomputing/blob/master/material/aulas/IA/lab07/mlp.png?raw=1\">\n",
    "\n"
   ]
  },
  {
   "cell_type": "code",
   "execution_count": null,
   "id": "1be12f87",
   "metadata": {
    "id": "73a8cabe"
   },
   "outputs": [],
   "source": [
    "## Sua resposta aqui...\n",
    "\n",
    "\n",
    "\n",
    "\n"
   ]
  },
  {
   "cell_type": "markdown",
   "id": "ebb6a2b6",
   "metadata": {
    "id": "ebb6a2b6"
   },
   "source": [
    "## Backpropagation\n",
    "\n",
    "Trata-se de uma técnica para realizar o ajuste dos pesos de uma rede neural. O objetivo de um rede neural é sempre minimar o seu erro, tendo a menor `Loss`para guiar o modelo para a direção certa.\n",
    "\n",
    "A função Loss mede o quão boa estão as predições darede, para problemas de regressão são mais utilizados o MSE, ou MAE. Já par classifiação, são utlizados BCE.\n",
    "\n",
    "\n",
    "Os algoritimos otimizadores são utilzados para ajustar os pesos das redes, o passo dado na descida do gradiente é chamada de taxa de aprendizado e mais utilizados são:\n",
    " - SGD\n",
    " - RMSprop\n",
    " - Adam\n",
    " - Adadelta\n",
    " - Adagrad\n",
    " - Adamax\n",
    " - Nadam\n",
    " - Ftrl\n",
    "\n",
    "<img src=\"https://github.com/arnaldojr/cognitivecomputing/blob/master/material/aulas/IA/lab07/sgd.gif?raw=1\">\n",
    "\n",
    "![gradient descent](https://rasbt.github.io/mlxtend/user_guide/general_concepts/gradient-optimization_files/ball.png)\n",
    "\n",
    "![grad](https://media.giphy.com/media/jUvoKxaLa7kxG/giphy.gif)\n",
    "\n",
    "\n",
    "<img src=\"https://github.com/arnaldojr/cognitivecomputing/blob/master/material/aulas/IA/lab07/loss.gif?raw=1\">\n",
    "\n",
    "\n",
    "\n",
    "Cada iteração das amostras de treinamento é chamada de bach e uma rodada completa de treinamento é chamada de epoch. O numero\n",
    "\n"
   ]
  },
  {
   "cell_type": "code",
   "execution_count": 26,
   "id": "168e3e00",
   "metadata": {
    "id": "8f1534f0"
   },
   "outputs": [],
   "source": [
    "model.compile(optimizer=tf.keras.optimizers.Adam(0.1), loss = 'mse')"
   ]
  },
  {
   "cell_type": "code",
   "execution_count": 7,
   "id": "1a4fb2ad",
   "metadata": {
    "colab": {
     "base_uri": "https://localhost:8080/"
    },
    "id": "YI2_jjFwdAmq",
    "outputId": "3b23d5f2-e841-425b-dd30-2b574c6e0cc5"
   },
   "outputs": [
    {
     "name": "stdout",
     "output_type": "stream",
     "text": [
      "--2023-10-02 12:57:46--  https://raw.githubusercontent.com/arnaldojr/cognitivecomputing/master/material/aulas/IA/lab07/SalesData.csv\n",
      "Resolving raw.githubusercontent.com (raw.githubusercontent.com)... 185.199.108.133, 185.199.110.133, 185.199.109.133, ...\n",
      "Connecting to raw.githubusercontent.com (raw.githubusercontent.com)|185.199.108.133|:443... connected.\n",
      "HTTP request sent, awaiting response... 200 OK\n",
      "Length: 11884 (12K) [text/plain]\n",
      "Saving to: ‘SalesData.csv’\n",
      "\n",
      "\r\n",
      "SalesData.csv         0%[                    ]       0  --.-KB/s               \r\n",
      "SalesData.csv       100%[===================>]  11.61K  --.-KB/s    in 0s      \n",
      "\n",
      "2023-10-02 12:57:46 (39.1 MB/s) - ‘SalesData.csv’ saved [11884/11884]\n",
      "\n",
      "/content: Scheme missing.\n",
      "FINISHED --2023-10-02 12:57:46--\n",
      "Total wall clock time: 0.2s\n",
      "Downloaded: 1 files, 12K in 0s (39.1 MB/s)\n"
     ]
    }
   ],
   "source": [
    "!wget https://raw.githubusercontent.com/arnaldojr/cognitivecomputing/master/material/aulas/IA/lab07/SalesData.csv /content\n"
   ]
  },
  {
   "cell_type": "code",
   "execution_count": 27,
   "id": "db32b6d6",
   "metadata": {
    "colab": {
     "base_uri": "https://localhost:8080/"
    },
    "id": "fbb0afcc",
    "outputId": "b21a8dca-c8e7-4a3f-bbac-86b8d0288ab6"
   },
   "outputs": [
    {
     "name": "stdout",
     "output_type": "stream",
     "text": [
      "<class 'pandas.core.frame.DataFrame'>\n",
      "RangeIndex: 500 entries, 0 to 499\n",
      "Data columns (total 2 columns):\n",
      " #   Column       Non-Null Count  Dtype  \n",
      "---  ------       --------------  -----  \n",
      " 0   Temperature  500 non-null    float64\n",
      " 1   Revenue      500 non-null    float64\n",
      "dtypes: float64(2)\n",
      "memory usage: 7.9 KB\n",
      "0      24.566884\n",
      "1      26.005191\n",
      "2      27.790554\n",
      "3      20.595335\n",
      "4      11.503498\n",
      "         ...    \n",
      "495    22.274899\n",
      "496    32.893092\n",
      "497    12.588157\n",
      "498    22.362402\n",
      "499    28.957736\n",
      "Name: Temperature, Length: 500, dtype: float64\n"
     ]
    }
   ],
   "source": [
    "import pandas as pd\n",
    "import numpy as np\n",
    "df = pd.read_csv('SalesData.csv')\n",
    "df.info()\n",
    "\n",
    "X_train = df['Temperature']\n",
    "y_train = df['Revenue']\n",
    "\n",
    "print(X_train)"
   ]
  },
  {
   "cell_type": "code",
   "execution_count": 28,
   "id": "90a88a2a",
   "metadata": {
    "colab": {
     "base_uri": "https://localhost:8080/",
     "height": 449
    },
    "id": "4784aa69",
    "outputId": "150de927-1eea-4916-8876-ed4f8b73d78e"
   },
   "outputs": [
    {
     "data": {
      "image/png": "[encoded data removed]",
      "text/plain": [
       "<Figure size 640x480 with 1 Axes>"
      ]
     },
     "metadata": {},
     "output_type": "display_data"
    }
   ],
   "source": [
    "import seaborn as sns\n",
    "\n",
    "sns.scatterplot(x=X_train, y=y_train);"
   ]
  },
  {
   "cell_type": "code",
   "execution_count": null,
   "id": "7bfdf226",
   "metadata": {
    "id": "313b1414"
   },
   "outputs": [],
   "source": [
    "epochs_hist = model.fit(X_train, y_train, epochs=1000)"
   ]
  },
  {
   "cell_type": "code",
   "execution_count": 30,
   "id": "3974f12e",
   "metadata": {
    "colab": {
     "base_uri": "https://localhost:8080/",
     "height": 431
    },
    "id": "083866de",
    "outputId": "081e7d49-7d65-4d91-8248-aa3e96061e3b"
   },
   "outputs": [
    {
     "data": {
      "image/png": "[encoded data removed]",
      "text/plain": [
       "<Figure size 640x480 with 1 Axes>"
      ]
     },
     "metadata": {},
     "output_type": "display_data"
    }
   ],
   "source": [
    "import pandas as pd\n",
    "\n",
    "history_df = pd.DataFrame(epochs_hist.history)\n",
    "\n",
    "history_df['loss'].plot();"
   ]
  },
  {
   "cell_type": "code",
   "execution_count": 31,
   "id": "ddaf07cb",
   "metadata": {
    "colab": {
     "base_uri": "https://localhost:8080/"
    },
    "id": "d1c647ae",
    "outputId": "0b3d8081-8613-4eed-e77a-d6d5ce7dffaf"
   },
   "outputs": [
    {
     "name": "stdout",
     "output_type": "stream",
     "text": [
      "1/1 [==============================] - 0s 160ms/step\n",
      "Revenue Predictions Using Trained ANN = [[152.05663]]\n"
     ]
    }
   ],
   "source": [
    "# Previsões com o modelo treinado\n",
    "temp = 5\n",
    "revenue = model.predict([temp])\n",
    "print('Revenue Predictions Using Trained ANN =', revenue)"
   ]
  },
  {
   "cell_type": "code",
   "execution_count": 33,
   "id": "aab01f91",
   "metadata": {
    "colab": {
     "base_uri": "https://localhost:8080/",
     "height": 489
    },
    "id": "0c2e987a",
    "outputId": "96bb39e6-632d-4c65-e6a9-c068bc963c58"
   },
   "outputs": [
    {
     "name": "stdout",
     "output_type": "stream",
     "text": [
      "16/16 [==============================] - 0s 3ms/step\n"
     ]
    },
    {
     "data": {
      "image/png": "[encoded data removed]",
      "text/plain": [
       "<Figure size 640x480 with 1 Axes>"
      ]
     },
     "metadata": {},
     "output_type": "display_data"
    }
   ],
   "source": [
    "from matplotlib import pyplot as plt\n",
    "\n",
    "plt.scatter(X_train, y_train, color = 'gray')\n",
    "plt.plot(X_train, model.predict(X_train), color = 'red')\n",
    "plt.ylabel('Revenue [dollars]')\n",
    "plt.xlabel('Temperature [degC]')\n",
    "plt.title('Revenue Generated vs. Temperature @Ice Cream Stand');"
   ]
  },
  {
   "cell_type": "markdown",
   "id": "HdAo6ugTg3vr",
   "metadata": {
    "id": "HdAo6ugTg3vr"
   },
   "source": [
    "\n",
    "### em resumo nos fizemos o seguinte:\n",
    "\n",
    "- Carregar e Visualizar os Dados\n",
    "- Criar e Compilar o Modelo\n",
    "- Treinamento\n",
    "- Avaliação e Predição"
   ]
  },
  {
   "cell_type": "code",
   "execution_count": null,
   "id": "95d59484",
   "metadata": {
    "id": "8RteSVrxf4FL"
   },
   "outputs": [],
   "source": [
    "import pandas as pd\n",
    "import numpy as np\n",
    "import seaborn as sns\n",
    "from matplotlib import pyplot as plt\n",
    "from tensorflow.keras import layers\n",
    "import tensorflow as tf\n",
    "from tensorflow import keras\n",
    "\n",
    "def carregar_e_visualizar_dados():\n",
    "    # Carregar os dados\n",
    "    #!wget https://raw.githubusercontent.com/arnaldojr/cognitivecomputing/master/material/aulas/IA/lab07/SalesData.csv /content\n",
    "    df = pd.read_csv('SalesData.csv')\n",
    "    df.info()\n",
    "\n",
    "    # Separar os dados\n",
    "    X_train = df['Temperature']\n",
    "    y_train = df['Revenue']\n",
    "\n",
    "    # Visualizar os dados\n",
    "    sns.scatterplot(x=X_train, y=y_train)\n",
    "    plt.show()\n",
    "\n",
    "    return X_train, y_train\n",
    "\n",
    "def criar_e_compilar_modelo():\n",
    "    # Criar o modelo\n",
    "    model = keras.Sequential([\n",
    "        layers.Dense(units=1, input_shape=[1])\n",
    "    ])\n",
    "\n",
    "    # Compilar o modelo\n",
    "    model.compile(optimizer=tf.keras.optimizers.Adam(0.1), loss='mse')\n",
    "    model.summary()\n",
    "\n",
    "    return model\n",
    "\n",
    "def treinar_modelo(model, X_train, y_train, epochs=100):\n",
    "    historico_epochs = model.fit(X_train, y_train, epochs=epochs)\n",
    "    df_historico = pd.DataFrame(historico_epochs.history)\n",
    "    df_historico['loss'].plot()\n",
    "    plt.show()\n",
    "    return model\n",
    "\n",
    "def avaliar_e_prever(model, X_train, y_train):\n",
    "    # Visualizar as predições do modelo\n",
    "    plt.scatter(X_train, y_train, color='gray')\n",
    "    plt.plot(X_train, model.predict(X_train), color='red')\n",
    "    plt.ylabel('Receita [dólares]')\n",
    "    plt.xlabel('Temperatura [°C]')\n",
    "    plt.title('Receita Gerada vs. Temperatura no Ponto de Venda de Sorvetes')\n",
    "    plt.show()\n",
    "\n",
    "    # Fazer uma previsão\n",
    "    temp = 5\n",
    "    receita = model.predict([temp])\n",
    "    print('Previsão de Receita Usando a ANN Treinada =', receita)\n",
    "\n",
    "# Carregar e visualizar os dados\n",
    "X_train, y_train = carregar_e_visualizar_dados()\n",
    "\n",
    "# Criar e compilar o modelo\n",
    "model = criar_e_compilar_modelo()\n",
    "\n",
    "# Treinar o modelo\n",
    "model = treinar_modelo(model, X_train, y_train)\n",
    "\n",
    "# Avaliar e fazer predições\n",
    "avaliar_e_prever(model, X_train, y_train)\n",
    "\n"
   ]
  },
  {
   "cell_type": "markdown",
   "id": "9147f7fd",
   "metadata": {
    "id": "9147f7fd"
   },
   "source": [
    "### Desafio: Implementação end-to-end MLP\n",
    "\n",
    "Realize o treinamento de uma rede MLP para o dataset Fashion MNIST. Um guia passo a passo pode ser encontrado no link https://www.tensorflow.org/tutorials/keras/classification."
   ]
  },
  {
   "cell_type": "code",
   "execution_count": null,
   "id": "8604e974",
   "metadata": {
    "id": "7c96dc1d"
   },
   "outputs": [],
   "source": [
    "### Seu código aqui....."
   ]
  }
 ],
 "metadata": {
  "colab": {
   "include_colab_link": true,
   "provenance": []
  },
  "kernelspec": {
   "display_name": "Python 3.9.5 64-bit",
   "language": "python",
   "name": "python3"
  },
  "language_info": {
   "codemirror_mode": {
    "name": "ipython",
    "version": 3
   },
   "file_extension": ".py",
   "mimetype": "text/x-python",
   "name": "python",
   "nbconvert_exporter": "python",
   "pygments_lexer": "ipython3",
   "version": "3.9.5 (tags/v3.9.5:0a7dcbd, May  3 2021, 17:27:52) [MSC v.1928 64 bit (AMD64)]"
  },
  "vscode": {
   "interpreter": {
    "hash": "8d68938bd6f1c8d824a292cb48fdc812f23ce0d2e12c844cec6ac89d2f668725"
   }
  }
 },
 "nbformat": 4,
 "nbformat_minor": 5
}
