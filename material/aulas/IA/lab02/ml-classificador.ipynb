{
 "cells": [
  {
   "cell_type": "markdown",
   "metadata": {
    "colab_type": "text",
    "id": "view-in-github"
   },
   "source": [
    "<a href=\"https://colab.research.google.com/github/arnaldojr/cognitivecomputing/blob/master/material/aulas/IA/lab02/classificador-knn.ipynb\" target=\"_parent\"><img src=\"https://colab.research.google.com/assets/colab-badge.svg\" alt=\"Open In Colab\"/></a>"
   ]
  },
  {
   "attachments": {},
   "cell_type": "markdown",
   "metadata": {
    "id": "HjqRTBuCo069"
   },
   "source": [
    "## Objetivos\n",
    "\n",
    "  - Comparação entre dois algoritmos de classificação populares, K-Nearest Neighbors (KNN) e Árvore de Decisão;\n",
    "  - Como aplicar o Grid Search para encontrar os melhores parâmetros para esses modelos.\n",
    "\n",
    "  "
   ]
  },
  {
   "attachments": {},
   "cell_type": "markdown",
   "metadata": {
    "id": "qa2-oXKKo07U"
   },
   "source": [
    "## Problemas de classicação\n",
    "\n",
    "A classificação é uma das principais tarefas em aprendizado de máquina e envolve a atribuição de um rótulo ou categoria a um conjunto de dados. Por exemplo, podemos usar a classificação para identificar se um e-mail é spam ou não, se uma transação financeira é fraudulenta ou legítima, ou para prever se um paciente desenvolverá uma doença com base em seus dados médicos.\n",
    "\n",
    "Existem muitos desafios em problemas de classicação que o análista de dados deve levar em consideração, como a escolha do modelo de aprendizado de máquina adequado, o ajuste dos hiperparâmetros do modelo, a seleção de features relevantes, o tratamento de dados adequado ao problema, o cuidado com overfitting e a avaliação correta do modelo. \n",
    "\n",
    "Além disso, diferentes modelos de classificação têm seus próprios pontos fortes e fracos, e escolher o modelo certo para um problema específico pode ser difícil.\n",
    "    \n"
   ]
  },
  {
   "attachments": {},
   "cell_type": "markdown",
   "metadata": {},
   "source": [
    "## Resumo sobre KNN e Árvore de Decisão\n",
    "\n",
    "| Algoritmo                 | Aplicação               | Vantagens                                                                             | Desvantagens                                                              | Contexto de uso                                                                                 |\n",
    "| ------------------------- | ----------------------- | ------------------------------------------------------------------------------------- | ------------------------------------------------------------------------- | ----------------------------------------------------------------------------------------------- |\n",
    "| Árvores de Decisão        | Classificação/Regressão | Fácil interpretabilidade, lida bem com dados faltantes, captura relações não lineares | Tendência ao overfitting, pode ser sensível a ruído                       | Problemas de classificação/regressão com relações não lineares                                  |\n",
    "| K-Nearest Neighbors (KNN) | Classificação/Regressão | Fácil de entender e implementar, lida bem com dados com muitas variáveis de entrada   | Requer muita memória para grandes conjuntos de dados, sensível a outliers | Problemas de classificação/regressão com muitas variáveis de entrada e poucas classes possíveis |\n",
    "\n",
    "O KNN (K-Nearest Neighbors) é um algoritmo de classificação simples e popular que usa a distância entre pontos para classificar novos dados. O algoritmo funciona encontrando os \"k\" pontos mais próximos a uma nova instância de dados e, em seguida, atribuindo a essa instância a classe mais comum entre seus k vizinhos mais próximos. O valor de k é um hiperparâmetro que pode ser ajustado para melhorar a precisão do modelo.\n",
    "\n",
    "Já a Árvore de Decisão é um algoritmo de classificação/regressão que usa uma estrutura em forma de árvore para representar possíveis decisões e seus resultados. A árvore é construída recursivamente, começando com um nó raiz que contém todo o conjunto de dados. Em seguida, o algoritmo seleciona a melhor variável para dividir o conjunto de dados em dois, com base em algum critério de impureza, como a entropia ou o índice Gini. Esse processo é repetido para cada subconjunto de dados resultante, criando um ramo de decisão na árvore. Quando a árvore é construída, novos dados podem ser classificados percorrendo a árvore de decisão a partir da raiz até chegar a uma folha, onde a classe é atribuída."
   ]
  },
  {
   "attachments": {},
   "cell_type": "markdown",
   "metadata": {
    "id": "MncKmgvQo07X"
   },
   "source": [
    "## Definição do problema\n",
    "\n",
    "A primeira coisa que precisamos fazer é a definição do problema. Neste primeiro caso vamos trabalhar com o mesmo dataset da última aula, dataset iris. Vamos desenvolver um sistema de machine learning capaz de classificar a especie de flor Iris com base nos dimensionais da pétala e sepala.\n",
    "\n"
   ]
  },
  {
   "attachments": {},
   "cell_type": "markdown",
   "metadata": {
    "id": "y3CtiMoZo07Y"
   },
   "source": [
    "## Relembrando o dataset Iris\n",
    "\n",
    "Iris é um dataset de flor com 150 linhas, divididos em três espécies diferentes: **setosa**, **versicolor** e **virginica**, sendo 50 amostras de cada espécie. Os atributos de largura e comprimento de sépala e largura e comprimento de pétala de cada flor foram anotados manualmente.\n",
    "\n",
    "<img src=\"https://s3.amazonaws.com/assets.datacamp.com/blog_assets/Machine+Learning+R/iris-machinelearning.png\">"
   ]
  },
  {
   "cell_type": "code",
   "execution_count": 1,
   "metadata": {
    "id": "PnuliwQWo07b"
   },
   "outputs": [],
   "source": [
    "# Inicializção das bibliotecas\n",
    "%matplotlib inline\n",
    "\n",
    "import pandas as pd\n",
    "import matplotlib.pyplot as plt\n"
   ]
  },
  {
   "cell_type": "code",
   "execution_count": 2,
   "metadata": {
    "id": "msTC8Y82o07c"
   },
   "outputs": [],
   "source": [
    "# Caminho do arquivo\n",
    "url = \"https://archive.ics.uci.edu/ml/machine-learning-databases/iris/iris.data\"\n",
    "# Define o nome das colunas\n",
    "header = ['sepal_length', 'sepal_width', 'petal_length', 'petal_width', 'species']\n",
    "# Lê e carrega o arquivo para a memória\n",
    "df = pd.read_csv(url, header=None, names=header)"
   ]
  },
  {
   "cell_type": "code",
   "execution_count": 3,
   "metadata": {
    "id": "5NMLbFgmo07d",
    "outputId": "d0aaee88-fb53-422f-9fe6-533ff71a12ed"
   },
   "outputs": [
    {
     "data": {
      "text/html": [
       "<div>\n",
       "<style scoped>\n",
       "    .dataframe tbody tr th:only-of-type {\n",
       "        vertical-align: middle;\n",
       "    }\n",
       "\n",
       "    .dataframe tbody tr th {\n",
       "        vertical-align: top;\n",
       "    }\n",
       "\n",
       "    .dataframe thead th {\n",
       "        text-align: right;\n",
       "    }\n",
       "</style>\n",
       "<table border=\"1\" class=\"dataframe\">\n",
       "  <thead>\n",
       "    <tr style=\"text-align: right;\">\n",
       "      <th></th>\n",
       "      <th>sepal_length</th>\n",
       "      <th>sepal_width</th>\n",
       "      <th>petal_length</th>\n",
       "      <th>petal_width</th>\n",
       "      <th>species</th>\n",
       "    </tr>\n",
       "  </thead>\n",
       "  <tbody>\n",
       "    <tr>\n",
       "      <th>0</th>\n",
       "      <td>5.1</td>\n",
       "      <td>3.5</td>\n",
       "      <td>1.4</td>\n",
       "      <td>0.2</td>\n",
       "      <td>Iris-setosa</td>\n",
       "    </tr>\n",
       "    <tr>\n",
       "      <th>1</th>\n",
       "      <td>4.9</td>\n",
       "      <td>3.0</td>\n",
       "      <td>1.4</td>\n",
       "      <td>0.2</td>\n",
       "      <td>Iris-setosa</td>\n",
       "    </tr>\n",
       "    <tr>\n",
       "      <th>2</th>\n",
       "      <td>4.7</td>\n",
       "      <td>3.2</td>\n",
       "      <td>1.3</td>\n",
       "      <td>0.2</td>\n",
       "      <td>Iris-setosa</td>\n",
       "    </tr>\n",
       "    <tr>\n",
       "      <th>3</th>\n",
       "      <td>4.6</td>\n",
       "      <td>3.1</td>\n",
       "      <td>1.5</td>\n",
       "      <td>0.2</td>\n",
       "      <td>Iris-setosa</td>\n",
       "    </tr>\n",
       "    <tr>\n",
       "      <th>4</th>\n",
       "      <td>5.0</td>\n",
       "      <td>3.6</td>\n",
       "      <td>1.4</td>\n",
       "      <td>0.2</td>\n",
       "      <td>Iris-setosa</td>\n",
       "    </tr>\n",
       "  </tbody>\n",
       "</table>\n",
       "</div>"
      ],
      "text/plain": [
       "   sepal_length  sepal_width  petal_length  petal_width      species\n",
       "0           5.1          3.5           1.4          0.2  Iris-setosa\n",
       "1           4.9          3.0           1.4          0.2  Iris-setosa\n",
       "2           4.7          3.2           1.3          0.2  Iris-setosa\n",
       "3           4.6          3.1           1.5          0.2  Iris-setosa\n",
       "4           5.0          3.6           1.4          0.2  Iris-setosa"
      ]
     },
     "execution_count": 3,
     "metadata": {},
     "output_type": "execute_result"
    }
   ],
   "source": [
    "# Retorna um trecho com as 5 primeiras linhas do dataframe\n",
    "df.head()"
   ]
  },
  {
   "cell_type": "code",
   "execution_count": 4,
   "metadata": {
    "id": "YWzjHy3Ko07e",
    "outputId": "4d563f8a-f22a-4b5c-9b60-7df92e7b1daa"
   },
   "outputs": [
    {
     "data": {
      "text/html": [
       "<div>\n",
       "<style scoped>\n",
       "    .dataframe tbody tr th:only-of-type {\n",
       "        vertical-align: middle;\n",
       "    }\n",
       "\n",
       "    .dataframe tbody tr th {\n",
       "        vertical-align: top;\n",
       "    }\n",
       "\n",
       "    .dataframe thead th {\n",
       "        text-align: right;\n",
       "    }\n",
       "</style>\n",
       "<table border=\"1\" class=\"dataframe\">\n",
       "  <thead>\n",
       "    <tr style=\"text-align: right;\">\n",
       "      <th></th>\n",
       "      <th>sepal_length</th>\n",
       "      <th>sepal_width</th>\n",
       "      <th>petal_length</th>\n",
       "      <th>petal_width</th>\n",
       "      <th>species</th>\n",
       "    </tr>\n",
       "  </thead>\n",
       "  <tbody>\n",
       "    <tr>\n",
       "      <th>145</th>\n",
       "      <td>6.7</td>\n",
       "      <td>3.0</td>\n",
       "      <td>5.2</td>\n",
       "      <td>2.3</td>\n",
       "      <td>Iris-virginica</td>\n",
       "    </tr>\n",
       "    <tr>\n",
       "      <th>146</th>\n",
       "      <td>6.3</td>\n",
       "      <td>2.5</td>\n",
       "      <td>5.0</td>\n",
       "      <td>1.9</td>\n",
       "      <td>Iris-virginica</td>\n",
       "    </tr>\n",
       "    <tr>\n",
       "      <th>147</th>\n",
       "      <td>6.5</td>\n",
       "      <td>3.0</td>\n",
       "      <td>5.2</td>\n",
       "      <td>2.0</td>\n",
       "      <td>Iris-virginica</td>\n",
       "    </tr>\n",
       "    <tr>\n",
       "      <th>148</th>\n",
       "      <td>6.2</td>\n",
       "      <td>3.4</td>\n",
       "      <td>5.4</td>\n",
       "      <td>2.3</td>\n",
       "      <td>Iris-virginica</td>\n",
       "    </tr>\n",
       "    <tr>\n",
       "      <th>149</th>\n",
       "      <td>5.9</td>\n",
       "      <td>3.0</td>\n",
       "      <td>5.1</td>\n",
       "      <td>1.8</td>\n",
       "      <td>Iris-virginica</td>\n",
       "    </tr>\n",
       "  </tbody>\n",
       "</table>\n",
       "</div>"
      ],
      "text/plain": [
       "     sepal_length  sepal_width  petal_length  petal_width         species\n",
       "145           6.7          3.0           5.2          2.3  Iris-virginica\n",
       "146           6.3          2.5           5.0          1.9  Iris-virginica\n",
       "147           6.5          3.0           5.2          2.0  Iris-virginica\n",
       "148           6.2          3.4           5.4          2.3  Iris-virginica\n",
       "149           5.9          3.0           5.1          1.8  Iris-virginica"
      ]
     },
     "execution_count": 4,
     "metadata": {},
     "output_type": "execute_result"
    }
   ],
   "source": [
    "df.tail()"
   ]
  },
  {
   "cell_type": "code",
   "execution_count": 5,
   "metadata": {
    "id": "-Un_EReko07f",
    "outputId": "e9f1f498-fb44-4c0f-f3f9-b0a2792837a8"
   },
   "outputs": [
    {
     "name": "stdout",
     "output_type": "stream",
     "text": [
      "<class 'pandas.core.frame.DataFrame'>\n",
      "RangeIndex: 150 entries, 0 to 149\n",
      "Data columns (total 5 columns):\n",
      " #   Column        Non-Null Count  Dtype  \n",
      "---  ------        --------------  -----  \n",
      " 0   sepal_length  150 non-null    float64\n",
      " 1   sepal_width   150 non-null    float64\n",
      " 2   petal_length  150 non-null    float64\n",
      " 3   petal_width   150 non-null    float64\n",
      " 4   species       150 non-null    object \n",
      "dtypes: float64(4), object(1)\n",
      "memory usage: 6.0+ KB\n"
     ]
    }
   ],
   "source": [
    "# Mostra informações sobre o dataframe em si\n",
    "df.info()"
   ]
  },
  {
   "cell_type": "code",
   "execution_count": 6,
   "metadata": {
    "id": "I5iLwG9Xo07g",
    "outputId": "e81ca5d3-80d8-47a9-b31f-56380f4e8f9f"
   },
   "outputs": [
    {
     "name": "stdout",
     "output_type": "stream",
     "text": [
      "species\n",
      "Iris-setosa        50\n",
      "Iris-versicolor    50\n",
      "Iris-virginica     50\n",
      "dtype: int64\n"
     ]
    }
   ],
   "source": [
    "# class distribution\n",
    "print(df.groupby('species').size())"
   ]
  },
  {
   "attachments": {},
   "cell_type": "markdown",
   "metadata": {
    "id": "uRUO-SKVo07h"
   },
   "source": [
    "### Desafio 1\n",
    "\n",
    "Aplique os métodos que achar conveniente (vimos algumas opções na última aula) para visualizar os dados de forma gráfica.\n"
   ]
  },
  {
   "cell_type": "code",
   "execution_count": 7,
   "metadata": {
    "id": "Kv4hovVBo07h"
   },
   "outputs": [],
   "source": [
    "## Sua resposta e seus gráficos para análisar..\n",
    "\n",
    "\n",
    "\n",
    "\n",
    "\n"
   ]
  },
  {
   "attachments": {},
   "cell_type": "markdown",
   "metadata": {
    "id": "_IfwfHdPo07h"
   },
   "source": [
    "## PARE!!!\n",
    "\n",
    "A análise feita no desafio 1 é uma das etapas mais importantes. Caso você tenha pulado essa etapa, volte e faça suas análises.\n"
   ]
  },
  {
   "attachments": {},
   "cell_type": "markdown",
   "metadata": {},
   "source": [
    "## Codificando os dados\n",
    "\n",
    "Com essa etapa concluída, vamos codificar os rótulos de especie para que possam ser usados pelos modelos que vamos treinar."
   ]
  },
  {
   "cell_type": "code",
   "execution_count": 8,
   "metadata": {},
   "outputs": [],
   "source": [
    "# Codificando os rótulos de especies\n",
    "\n",
    "from sklearn.preprocessing import LabelEncoder\n",
    "\n",
    "le = LabelEncoder()\n",
    "df['species'] = le.fit_transform(df['species'])"
   ]
  },
  {
   "attachments": {},
   "cell_type": "markdown",
   "metadata": {
    "id": "Pp5pS1-go07i"
   },
   "source": [
    "## Dividindo os dados em conjunto de treinamento e de testes\n",
    "\n",
    "Dividir nosso dataset em dois conjuntos de dados.\n",
    "    \n",
    "    Treinamento - Representa 80% das amostras do conjunto de dados original,\n",
    "    Teste - com 20% das amostras\n",
    "\n",
    "Vamos escolher aleatoriamente algumas amostras do conjunto original. Isto pode ser feito com Scikit-Learn usando a função ***train_test_split()***"
   ]
  },
  {
   "cell_type": "code",
   "execution_count": 9,
   "metadata": {
    "id": "CG3e3C7Ro07j",
    "outputId": "30161108-cd7b-448d-daed-72b38850beb1"
   },
   "outputs": [
    {
     "name": "stdout",
     "output_type": "stream",
     "text": [
      "Formato das tabelas de dados de treino (120, 4) e teste (120,)\n"
     ]
    }
   ],
   "source": [
    "# Separamos 20% para o teste\n",
    "from sklearn.model_selection import train_test_split\n",
    "\n",
    "## define entradas de dados e o target\n",
    "\n",
    "X = df.iloc[:, :-1]\n",
    "y = df['species']\n",
    "\n",
    "# Separando os dados em conjunto de treinamento e teste\n",
    "X_train, X_test, y_train, y_test = train_test_split(X,y, test_size=0.2, random_state=42)\n",
    "\n",
    "print(f\"Formato das tabelas de dados de treino {X_train.shape} e teste {y_train.shape}\")"
   ]
  },
  {
   "cell_type": "code",
   "execution_count": 10,
   "metadata": {
    "id": "7m9m5gC9o07l",
    "outputId": "5c19ee5e-6d51-4938-dd6c-ef3c15bd2c8f"
   },
   "outputs": [
    {
     "data": {
      "text/html": [
       "<div>\n",
       "<style scoped>\n",
       "    .dataframe tbody tr th:only-of-type {\n",
       "        vertical-align: middle;\n",
       "    }\n",
       "\n",
       "    .dataframe tbody tr th {\n",
       "        vertical-align: top;\n",
       "    }\n",
       "\n",
       "    .dataframe thead th {\n",
       "        text-align: right;\n",
       "    }\n",
       "</style>\n",
       "<table border=\"1\" class=\"dataframe\">\n",
       "  <thead>\n",
       "    <tr style=\"text-align: right;\">\n",
       "      <th></th>\n",
       "      <th>sepal_length</th>\n",
       "      <th>sepal_width</th>\n",
       "      <th>petal_length</th>\n",
       "      <th>petal_width</th>\n",
       "    </tr>\n",
       "  </thead>\n",
       "  <tbody>\n",
       "    <tr>\n",
       "      <th>22</th>\n",
       "      <td>4.6</td>\n",
       "      <td>3.6</td>\n",
       "      <td>1.0</td>\n",
       "      <td>0.2</td>\n",
       "    </tr>\n",
       "    <tr>\n",
       "      <th>15</th>\n",
       "      <td>5.7</td>\n",
       "      <td>4.4</td>\n",
       "      <td>1.5</td>\n",
       "      <td>0.4</td>\n",
       "    </tr>\n",
       "    <tr>\n",
       "      <th>65</th>\n",
       "      <td>6.7</td>\n",
       "      <td>3.1</td>\n",
       "      <td>4.4</td>\n",
       "      <td>1.4</td>\n",
       "    </tr>\n",
       "    <tr>\n",
       "      <th>11</th>\n",
       "      <td>4.8</td>\n",
       "      <td>3.4</td>\n",
       "      <td>1.6</td>\n",
       "      <td>0.2</td>\n",
       "    </tr>\n",
       "    <tr>\n",
       "      <th>42</th>\n",
       "      <td>4.4</td>\n",
       "      <td>3.2</td>\n",
       "      <td>1.3</td>\n",
       "      <td>0.2</td>\n",
       "    </tr>\n",
       "  </tbody>\n",
       "</table>\n",
       "</div>"
      ],
      "text/plain": [
       "    sepal_length  sepal_width  petal_length  petal_width\n",
       "22           4.6          3.6           1.0          0.2\n",
       "15           5.7          4.4           1.5          0.4\n",
       "65           6.7          3.1           4.4          1.4\n",
       "11           4.8          3.4           1.6          0.2\n",
       "42           4.4          3.2           1.3          0.2"
      ]
     },
     "execution_count": 10,
     "metadata": {},
     "output_type": "execute_result"
    }
   ],
   "source": [
    "#Primeiras linhas do dataframe de treino \n",
    "X_train.head()"
   ]
  },
  {
   "cell_type": "code",
   "execution_count": 11,
   "metadata": {
    "id": "VneUuFHLo07m",
    "outputId": "f36d17df-3a74-4201-e293-7a889e163744"
   },
   "outputs": [
    {
     "data": {
      "text/plain": [
       "71     1\n",
       "106    2\n",
       "14     0\n",
       "92     1\n",
       "102    2\n",
       "Name: species, dtype: int32"
      ]
     },
     "execution_count": 11,
     "metadata": {},
     "output_type": "execute_result"
    }
   ],
   "source": [
    "y_train.tail()"
   ]
  },
  {
   "attachments": {},
   "cell_type": "markdown",
   "metadata": {
    "id": "6EF0M2Qxo07m"
   },
   "source": [
    "## Chegou a hora de treinar os modelos\n",
    "\n",
    "Treinar um modelo no python é simples se usar o Scikit-Learn. \n",
    "Treinar um modelo no Scikit-Learn é simples: basta criar o classificador, e chamar o método fit().\n",
    "\n",
    "Uma observação sobre a sintaxe dos classificadores do `scikit-learn`\n",
    "- O método `fit(X,Y)` recebe uma matriz ou dataframe X onde cada linha é uma amostra de aprendizado, e um array Y contendo as saídas esperadas do classificador, seja na forma de texto ou de inteiros\n",
    "- O método `predict(X)` recebe uma matriz ou dataframe X onde cada linha é uma amostra de teste, retornando um array de classes\n",
    "\n"
   ]
  },
  {
   "cell_type": "markdown",
   "metadata": {},
   "source": [
    "## Treinamento usando algoritmo KNN"
   ]
  },
  {
   "cell_type": "code",
   "execution_count": 12,
   "metadata": {
    "id": "Fuuf-twIo07n",
    "outputId": "744c549f-d009-45ea-9507-c2e8b5c15133"
   },
   "outputs": [
    {
     "data": {
      "text/plain": [
       "KNeighborsClassifier(n_neighbors=3)"
      ]
     },
     "execution_count": 12,
     "metadata": {},
     "output_type": "execute_result"
    }
   ],
   "source": [
    "# Importa a biblioteca\n",
    "from sklearn.neighbors import KNeighborsClassifier\n",
    "\n",
    "# Cria o classificar KNN\n",
    "k = 3\n",
    "knn = KNeighborsClassifier(n_neighbors=k)\n",
    "\n",
    "# Cria o modelo de machine learning\n",
    "knn.fit(X_train, y_train)"
   ]
  },
  {
   "cell_type": "markdown",
   "metadata": {
    "id": "jVAX6NnSo07o"
   },
   "source": [
    "Pronto!! bora testar se esta funcionando....\n"
   ]
  },
  {
   "cell_type": "code",
   "execution_count": 13,
   "metadata": {},
   "outputs": [
    {
     "name": "stdout",
     "output_type": "stream",
     "text": [
      "Acurácia:  1.0\n",
      "Precisão:  1.0\n",
      "Recall:  1.0\n",
      "F1-score:  1.0\n"
     ]
    }
   ],
   "source": [
    "# Realizando previsões\n",
    "\n",
    "y_pred = knn.predict(X_test)\n",
    "\n",
    "\n",
    "# Avaliando o modelo\n",
    "from sklearn.metrics import accuracy_score, precision_score, recall_score, f1_score\n",
    "\n",
    "print(\"Acurácia: \", accuracy_score(y_test, y_pred))\n",
    "print(\"Precisão: \", precision_score(y_test, y_pred, average='macro'))\n",
    "print(\"Recall: \", recall_score(y_test, y_pred, average='macro'))\n",
    "print(\"F1-score: \", f1_score(y_test, y_pred, average='macro'))\n",
    "\n",
    "## average='macro': métrica é calculada para cada classe individualmente e, em seguida, a média não ponderada das métricas de cada classe é retornada.\n",
    "##  Isso significa que todas as classes têm a mesma importância no cálculo da métrica."
   ]
  },
  {
   "attachments": {},
   "cell_type": "markdown",
   "metadata": {},
   "source": [
    "## Ajustando os hiperparâmetros do modelo KNN\n",
    "\n",
    "Ao ajustar esses hiperparâmetros usando o Grid Search, podemos encontrar a combinação ideal de hiperparâmetros que leva à melhor performance do modelo em um conjunto de dados específico.\n",
    "\n",
    "Existem vários hiperparâmetros do modelo K-Nearest Neighbors (KNN) que podem ser ajustados usando o Grid Search. Alguns dos hiperparâmetros mais comuns são:\n",
    "\n",
    "- ``n_neighbors``: o número de vizinhos mais próximos a serem considerados no modelo.\n",
    "\n",
    "- ``weights``: como ponderar a contribuição dos vizinhos mais próximos. Opções comuns são ``uniform``, onde todos os vizinhos têm peso igual, e ``distance``, onde o peso é inversamente proporcional à distância do ponto de consulta aos vizinhos.\n",
    "\n",
    "- ``p``: a métrica de distância a ser usada. O valor padrão é ``p=2``, que corresponde à distância Euclidiana. Outras opções incluem ``p=1``, que corresponde à distância de Manhattan, e ``p=inf``, que corresponde à distância máxima.\n",
    "\n",
    "- ``algorithm``: o algoritmo usado para calcular os vizinhos mais próximos. As opções comuns são ``brute``, que força uma busca exaustiva sobre todos os pontos de treinamento, e ``kd_tree`` e ``ball_tree``, que usam estruturas de dados mais eficientes para acelerar a busca.\n",
    "\n",
    "- ``leaf_size``: o tamanho da folha para a árvore de busca, que afeta a eficiência do algoritmo."
   ]
  },
  {
   "cell_type": "code",
   "execution_count": 14,
   "metadata": {},
   "outputs": [
    {
     "name": "stdout",
     "output_type": "stream",
     "text": [
      "Fitting 5 folds for each of 48 candidates, totalling 240 fits\n",
      "Melhores hiperparâmetros:  {'algorithm': 'ball_tree', 'n_neighbors': 3, 'p': 1, 'weights': 'uniform'}\n",
      "Acurácia:  1.0\n",
      "Precisão:  1.0\n",
      "Recall:  1.0\n",
      "F1-score:  1.0\n"
     ]
    }
   ],
   "source": [
    "from sklearn.model_selection import GridSearchCV\n",
    "\n",
    "\n",
    "# Definindo os valores para os hiperparâmetros\n",
    "param_grid = {'n_neighbors': [3, 5, 7, 9], 'weights': ['uniform', 'distance'], 'algorithm': ['ball_tree', 'kd_tree', 'brute'], 'p': [1, 2]}\n",
    "\n",
    "# Criando o objeto GridSearchCV\n",
    "grid = GridSearchCV(KNeighborsClassifier(), param_grid, verbose=1, cv=5, n_jobs=-1)\n",
    "\n",
    "# Ajustando o modelo com os dados de treinamento\n",
    "grid.fit(X_train, y_train)\n",
    "\n",
    "# Imprimindo os melhores hiperparâmetros encontrados\n",
    "print(\"Melhores hiperparâmetros: \", grid.best_params_)\n",
    "\n",
    "# Realizando previsões e avaliando o modelo com os melhores hiperparâmetros\n",
    "y_pred = grid.predict(X_test)\n",
    "print(\"Acurácia: \", accuracy_score(y_test, y_pred))\n",
    "print(\"Precisão: \", precision_score(y_test, y_pred, average='macro'))\n",
    "print(\"Recall: \", recall_score(y_test, y_pred, average='macro'))\n",
    "print(\"F1-score: \", f1_score(y_test, y_pred, average='macro'))"
   ]
  },
  {
   "attachments": {},
   "cell_type": "markdown",
   "metadata": {},
   "source": [
    "## Treinamento usando algoritmo Árvore de Decisão"
   ]
  },
  {
   "cell_type": "code",
   "execution_count": 15,
   "metadata": {},
   "outputs": [
    {
     "name": "stdout",
     "output_type": "stream",
     "text": [
      "Acurácia:  1.0\n",
      "Precisão:  1.0\n",
      "Recall:  1.0\n",
      "F1-score:  1.0\n"
     ]
    }
   ],
   "source": [
    "from sklearn.tree import DecisionTreeClassifier\n",
    "\n",
    "# Definindo o modelo de árvore de decisão com hiperparâmetros padrão\n",
    "tree = DecisionTreeClassifier(criterion='gini', max_depth=None, min_samples_split=2, min_samples_leaf=1, random_state=42)\n",
    "tree.fit(X_train, y_train)\n",
    "\n",
    "# Realizando previsões e avaliando o modelo\n",
    "y_pred = tree.predict(X_test)\n",
    "print(\"Acurácia: \", accuracy_score(y_test, y_pred))\n",
    "print(\"Precisão: \", precision_score(y_test, y_pred, average='macro'))\n",
    "print(\"Recall: \", recall_score(y_test, y_pred, average='macro'))\n",
    "print(\"F1-score: \", f1_score(y_test, y_pred, average='macro'))"
   ]
  },
  {
   "attachments": {},
   "cell_type": "markdown",
   "metadata": {},
   "source": [
    "## Ajustando os hiperparâmetros do modelo de árvore de decisão\n",
    "\n",
    "Existem vários hiperparâmetros da Árvore de Decisão que podem ser ajustados usando o Grid Search. Alguns dos hiperparâmetros mais comuns são:\n",
    "\n",
    "- ``criterion``: a função usada para medir a qualidade da divisão em cada nó da árvore. As opções comuns são ``gini`` e ``entropy``.\n",
    "\n",
    "- ``splitter``: a estratégia usada para escolher a variável que divide o conjunto de dados em cada nó. As opções comuns são ``best``, que escolhe a melhor divisão possível, e ``random``, que escolhe uma divisão aleatória.\n",
    "\n",
    "- ``max_depth``: a profundidade máxima da árvore. Se definido como ``None``, os nós serão expandidos até que todas as folhas contenham menos de min_samples_split amostras ou todas as amostras sejam classificadas.\n",
    "\n",
    "- ``min_samples_split``: o número mínimo de amostras necessárias para dividir um nó interno.\n",
    "\n",
    "- ``min_samples_leaf``: o número mínimo de amostras necessárias para ser uma folha.\n",
    "\n",
    "- ``max_features``: o número máximo de recursos que podem ser considerados em cada divisão.\n",
    "\n",
    "- ``max_leaf_nodes``: o número máximo de folhas permitidas na árvore."
   ]
  },
  {
   "cell_type": "code",
   "execution_count": 16,
   "metadata": {},
   "outputs": [
    {
     "name": "stdout",
     "output_type": "stream",
     "text": [
      "Fitting 5 folds for each of 72 candidates, totalling 360 fits\n",
      "Melhores hiperparâmetros:  {'criterion': 'entropy', 'max_depth': None, 'min_samples_leaf': 4, 'min_samples_split': 2}\n",
      "Acurácia:  1.0\n",
      "Precisão:  1.0\n",
      "Recall:  1.0\n",
      "F1-score:  1.0\n"
     ]
    }
   ],
   "source": [
    "# Definindo os valores para os hiperparâmetros\n",
    "param_grid = {'criterion': ['gini', 'entropy'], 'max_depth': [None, 3, 5, 7], 'min_samples_split': [2, 5, 10], 'min_samples_leaf': [1, 2, 4]}\n",
    "\n",
    "# Criando o objeto GridSearchCV\n",
    "grid = GridSearchCV(DecisionTreeClassifier(), param_grid, verbose=1, cv=5, n_jobs=-1)\n",
    "\n",
    "# Ajustando o modelo com os dados de treinamento\n",
    "grid.fit(X_train, y_train)\n",
    "\n",
    "# Imprimindo os melhores hiperparâmetros encontrados\n",
    "print(\"Melhores hiperparâmetros: \", grid.best_params_)\n",
    "\n",
    "# Realizando previsões e avaliando o modelo com os melhores hiperparâmetros\n",
    "y_pred = grid.predict(X_test)\n",
    "print(\"Acurácia: \", accuracy_score(y_test, y_pred))\n",
    "print(\"Precisão: \", precision_score(y_test, y_pred, average='macro'))\n",
    "print(\"Recall: \", recall_score(y_test, y_pred, average='macro'))\n",
    "print(\"F1-score: \", f1_score(y_test, y_pred, average='macro'))"
   ]
  },
  {
   "attachments": {},
   "cell_type": "markdown",
   "metadata": {},
   "source": [
    "##  Comparando os melhores modelos treinados de cada algoritmo\n",
    "\n",
    "Por fim, podemos comparar a performance dos modelos de KNN e árvore de decisão."
   ]
  },
  {
   "cell_type": "code",
   "execution_count": 17,
   "metadata": {},
   "outputs": [
    {
     "name": "stdout",
     "output_type": "stream",
     "text": [
      "KNN - Acurácia:  1.0\n",
      "KNN - Precisão:  1.0\n",
      "KNN - Recall:  1.0\n",
      "KNN - F1-score:  1.0\n",
      "Árvore de Decisão - Acurácia:  1.0\n",
      "Árvore de Decisão - Precisão:  1.0\n",
      "Árvore de Decisão - Recall:  1.0\n",
      "Árvore de Decisão - F1-score:  1.0\n"
     ]
    }
   ],
   "source": [
    "# Criando os modelos ( altere os parametros para os melhores hiperparâmetros encontrados)\n",
    "knn = KNeighborsClassifier(n_neighbors=5, weights='uniform', algorithm='ball_tree', p=2) \n",
    "tree = DecisionTreeClassifier(criterion='entropy', max_depth=None, min_samples_split=2, min_samples_leaf=1)\n",
    "\n",
    "# Ajustando os modelos com os dados de treinamento\n",
    "knn.fit(X_train, y_train)\n",
    "tree.fit(X_train, y_train)\n",
    "\n",
    "# Realizando previsões e avaliando os modelos com os dados de teste\n",
    "knn_pred = knn.predict(X_test)\n",
    "tree_pred = tree.predict(X_test)\n",
    "\n",
    "print(\"KNN - Acurácia: \", accuracy_score(y_test, knn_pred))\n",
    "print(\"KNN - Precisão: \", precision_score(y_test, knn_pred, average='macro'))\n",
    "print(\"KNN - Recall: \", recall_score(y_test, knn_pred, average='macro'))\n",
    "print(\"KNN - F1-score: \", f1_score(y_test, knn_pred, average='macro'))\n",
    "\n",
    "print(\"Árvore de Decisão - Acurácia: \", accuracy_score(y_test, tree_pred))\n",
    "print(\"Árvore de Decisão - Precisão: \", precision_score(y_test, tree_pred, average='macro'))\n",
    "print(\"Árvore de Decisão - Recall: \", recall_score(y_test, tree_pred, average='macro'))\n",
    "print(\"Árvore de Decisão - F1-score: \", f1_score(y_test, tree_pred, average='macro'))"
   ]
  },
  {
   "cell_type": "markdown",
   "metadata": {},
   "source": [
    "## Novo exemplo com o dataset load_Digits\n",
    "\n",
    "Carrega um dataset de imagens de digits 8x8px."
   ]
  },
  {
   "cell_type": "code",
   "execution_count": 18,
   "metadata": {},
   "outputs": [],
   "source": [
    "from sklearn.datasets import load_digits\n",
    "\n",
    "digits = load_digits()\n",
    "X, y = digits.data, digits.target\n"
   ]
  },
  {
   "cell_type": "code",
   "execution_count": 19,
   "metadata": {},
   "outputs": [
    {
     "name": "stdout",
     "output_type": "stream",
     "text": [
      "Formato das tabelas de dados de treino (1437, 64) e teste (1437,)\n"
     ]
    }
   ],
   "source": [
    "# Separando os dados em conjunto de treinamento e teste\n",
    "X_train, X_test, y_train, y_test = train_test_split(X,y, test_size=0.2)\n",
    "\n",
    "print(f\"Formato das tabelas de dados de treino {X_train.shape} e teste {y_train.shape}\")"
   ]
  },
  {
   "cell_type": "code",
   "execution_count": 20,
   "metadata": {},
   "outputs": [
    {
     "name": "stdout",
     "output_type": "stream",
     "text": [
      "KNN - Acurácia:  0.9916666666666667\n",
      "KNN - Precisão:  0.9916107948555768\n",
      "KNN - Recall:  0.9924263674614305\n",
      "KNN - F1-score:  0.9918829564341367\n",
      "Árvore de Decisão - Acurácia:  0.8638888888888889\n",
      "Árvore de Decisão - Precisão:  0.8696557411216153\n",
      "Árvore de Decisão - Recall:  0.8609678867182373\n",
      "Árvore de Decisão - F1-score:  0.8636191869030079\n"
     ]
    }
   ],
   "source": [
    "# Criando os modelos ( altere os parametros para os melhores hiperparâmetros encontrados)\n",
    "knn = KNeighborsClassifier(n_neighbors=3, weights='uniform', algorithm='ball_tree', p=2) \n",
    "tree = DecisionTreeClassifier(criterion='entropy', max_depth=None, min_samples_split=2, min_samples_leaf=1)\n",
    "\n",
    "# Ajustando os modelos com os dados de treinamento\n",
    "knn.fit(X_train, y_train)\n",
    "tree.fit(X_train, y_train)\n",
    "\n",
    "# Realizando previsões e avaliando os modelos com os dados de teste\n",
    "knn_pred = knn.predict(X_test)\n",
    "tree_pred = tree.predict(X_test)\n",
    "\n",
    "print(\"KNN - Acurácia: \", accuracy_score(y_test, knn_pred))\n",
    "print(\"KNN - Precisão: \", precision_score(y_test, knn_pred, average='macro'))\n",
    "print(\"KNN - Recall: \", recall_score(y_test, knn_pred, average='macro'))\n",
    "print(\"KNN - F1-score: \", f1_score(y_test, knn_pred, average='macro'))\n",
    "\n",
    "print(\"Árvore de Decisão - Acurácia: \", accuracy_score(y_test, tree_pred))\n",
    "print(\"Árvore de Decisão - Precisão: \", precision_score(y_test, tree_pred, average='macro'))\n",
    "print(\"Árvore de Decisão - Recall: \", recall_score(y_test, tree_pred, average='macro'))\n",
    "print(\"Árvore de Decisão - F1-score: \", f1_score(y_test, tree_pred, average='macro'))\n",
    "\n",
    "\n"
   ]
  },
  {
   "cell_type": "code",
   "execution_count": 21,
   "metadata": {},
   "outputs": [
    {
     "name": "stdout",
     "output_type": "stream",
     "text": [
      "              precision    recall  f1-score   support\n",
      "\n",
      "           0       1.00      1.00      1.00        40\n",
      "           1       0.98      1.00      0.99        44\n",
      "           2       1.00      1.00      1.00        35\n",
      "           3       1.00      0.96      0.98        46\n",
      "           4       1.00      1.00      1.00        26\n",
      "           5       1.00      1.00      1.00        36\n",
      "           6       1.00      1.00      1.00        39\n",
      "           7       0.97      1.00      0.98        30\n",
      "           8       1.00      0.97      0.98        31\n",
      "           9       0.97      1.00      0.99        33\n",
      "\n",
      "    accuracy                           0.99       360\n",
      "   macro avg       0.99      0.99      0.99       360\n",
      "weighted avg       0.99      0.99      0.99       360\n",
      "\n",
      "              precision    recall  f1-score   support\n",
      "\n",
      "           0       0.97      0.90      0.94        40\n",
      "           1       0.87      0.89      0.88        44\n",
      "           2       0.97      0.83      0.89        35\n",
      "           3       0.82      0.87      0.84        46\n",
      "           4       0.92      0.88      0.90        26\n",
      "           5       0.80      0.92      0.86        36\n",
      "           6       0.92      0.87      0.89        39\n",
      "           7       0.93      0.83      0.88        30\n",
      "           8       0.65      0.71      0.68        31\n",
      "           9       0.86      0.91      0.88        33\n",
      "\n",
      "    accuracy                           0.86       360\n",
      "   macro avg       0.87      0.86      0.86       360\n",
      "weighted avg       0.87      0.86      0.87       360\n",
      "\n"
     ]
    }
   ],
   "source": [
    "from sklearn.metrics import classification_report\n",
    "\n",
    "print(classification_report(y_test, knn_pred))\n",
    "print(classification_report(y_test, tree_pred))"
   ]
  },
  {
   "cell_type": "code",
   "execution_count": 23,
   "metadata": {},
   "outputs": [
    {
     "name": "stdout",
     "output_type": "stream",
     "text": [
      "I think that digit is: 3\n"
     ]
    },
    {
     "data": {
      "image/png": "[encoded data removed]",
      "text/plain": [
       "<Figure size 432x288 with 1 Axes>"
      ]
     },
     "metadata": {
      "needs_background": "light"
     },
     "output_type": "display_data"
    },
    {
     "name": "stdout",
     "output_type": "stream",
     "text": [
      "I think that digit is: 9\n"
     ]
    },
    {
     "data": {
      "image/png": "[encoded data removed]",
      "text/plain": [
       "<Figure size 432x288 with 1 Axes>"
      ]
     },
     "metadata": {
      "needs_background": "light"
     },
     "output_type": "display_data"
    },
    {
     "name": "stdout",
     "output_type": "stream",
     "text": [
      "I think that digit is: 1\n"
     ]
    },
    {
     "data": {
      "image/png": "[encoded data removed]",
      "text/plain": [
       "<Figure size 432x288 with 1 Axes>"
      ]
     },
     "metadata": {
      "needs_background": "light"
     },
     "output_type": "display_data"
    },
    {
     "name": "stdout",
     "output_type": "stream",
     "text": [
      "I think that digit is: 6\n"
     ]
    },
    {
     "data": {
      "image/png": "[encoded data removed]",
      "text/plain": [
       "<Figure size 432x288 with 1 Axes>"
      ]
     },
     "metadata": {
      "needs_background": "light"
     },
     "output_type": "display_data"
    },
    {
     "name": "stdout",
     "output_type": "stream",
     "text": [
      "I think that digit is: 7\n"
     ]
    },
    {
     "data": {
      "image/png": "[encoded data removed]",
      "text/plain": [
       "<Figure size 432x288 with 1 Axes>"
      ]
     },
     "metadata": {
      "needs_background": "light"
     },
     "output_type": "display_data"
    }
   ],
   "source": [
    "from skimage import exposure\n",
    "import imutils\n",
    "import numpy as np\n",
    "import cv2\n",
    "from matplotlib import pyplot as plt\n",
    "\n",
    "\n",
    "model = knn\n",
    "\n",
    "# loop over a few random digits\n",
    "for i in list(map(int, np.random.randint(0, high=len(y_test), size=(5,)))):\n",
    "\t# grab the image and classify it\n",
    "\timage = X_test[i]\n",
    "\tprediction = model.predict(image.reshape(1, -1))[0]\n",
    "\n",
    "\t# convert the image for a 64-dim array to an 8 x 8 image compatible with OpenCV,\n",
    "\t# then resize it to 32 x 32 pixels so we can see it better\n",
    "\timage = image.reshape((8, 8)).astype(\"uint8\")\n",
    "\timage = exposure.rescale_intensity(image, out_range=(0, 255))\n",
    "\timage = imutils.resize(image, width=32, inter=cv2.INTER_CUBIC)\n",
    "\n",
    "\t# show the prediction\n",
    "\tprint(\"I think that digit is: {}\".format(prediction))\n",
    "\tplt.imshow(image, cmap=\"gray\")\n",
    "\tplt.show()\n",
    "\t#cv2.imshow(\"Image\", image)\n",
    "\t#cv2.waitKey(0)"
   ]
  },
  {
   "cell_type": "markdown",
   "metadata": {},
   "source": []
  },
  {
   "cell_type": "markdown",
   "metadata": {},
   "source": [
    "Tente ajustar os hiperparâmetros dos modelos de KNN e árvore de decisão para melhorar ainda mais a performance dos modelos.\n",
    "\n",
    "Tente aplicar os modelos em outros conjuntos de dados de classificação para ver como eles se saem.\n",
    "\n",
    "Pesquise sobre outros modelos de classificação e compare-os com o KNN e árvore de decisão. Qual modelo é o mais adequado para diferentes tipos de problemas de classificação?"
   ]
  }
 ],
 "metadata": {
  "colab": {
   "include_colab_link": true,
   "provenance": []
  },
  "kernelspec": {
   "display_name": "Python 3.9.5 64-bit",
   "language": "python",
   "name": "python3"
  },
  "language_info": {
   "codemirror_mode": {
    "name": "ipython",
    "version": 3
   },
   "file_extension": ".py",
   "mimetype": "text/x-python",
   "name": "python",
   "nbconvert_exporter": "python",
   "pygments_lexer": "ipython3",
   "version": "3.9.5"
  },
  "vscode": {
   "interpreter": {
    "hash": "8d68938bd6f1c8d824a292cb48fdc812f23ce0d2e12c844cec6ac89d2f668725"
   }
  }
 },
 "nbformat": 4,
 "nbformat_minor": 0
}
