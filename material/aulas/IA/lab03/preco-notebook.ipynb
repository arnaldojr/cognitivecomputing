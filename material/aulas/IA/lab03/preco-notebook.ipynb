{
  "cells": [
    {
      "cell_type": "markdown",
      "metadata": {
        "id": "Nvewpc7DGEgy"
      },
      "source": [
        "## Objetivos\n",
        "\n",
        "  - Apresentar o conceito de Regressão\n",
        "  - Apresentar e utilizar algoritmo de Regressão linear\n",
        "  - Apresentar e utilizar Regressão Polinomial\n",
        "  - Apresentar e discutir a matriz de correlação\n",
        "  - Apresentar uma intuição sobre métricas de avaliação (MSE, RMSE e $ R² $ )\n",
        "\n",
        "\n",
        "  "
      ]
    },
    {
      "cell_type": "markdown",
      "metadata": {
        "id": "ueC_wI2MGEg3"
      },
      "source": [
        "## Começando\n",
        "\n",
        "Sabemos que dentro de aprendizado supervisionado vamos trabalhar com dois tipos de problemas:\n",
        "\n",
        "- [x]  Classificação - (Já conhecemos o KNN)\n",
        "- [ ]  Regressão - (Objetivo de hoje)\n",
        "\n",
        "### Uma intuição sobre problemas que envolvem cada um deles:\n",
        "\n",
        "        Classificação --> Resultados discretos (categóricos).\n",
        "        Regressão --> Resultados numéricos e contínuos.\n"
      ]
    },
    {
      "cell_type": "markdown",
      "metadata": {
        "id": "xmfR10hAGEg4"
      },
      "source": [
        "### Regressão linear\n",
        "\n",
        "É uma técnica que consiste em representar um conjunto de dados por meio de uma reta.\n",
        "\n",
        "\n",
        "    Na matemática aprendemos que a equação de uma reta é:\n",
        "\n",
        "$$\n",
        "Y = A + BX \\\\\n",
        "$$\n",
        "A e B são constantes que determinam a posição e inclinação da reta. Para cada valor de X temos um Y associado.\n",
        "\n",
        "    Em machine learning aprendemos que uma Regressão linear é:\n",
        "\n",
        "$$\n",
        "Y_{predito} = \\beta_o + \\beta_1X \\\\\n",
        "$$\n",
        "\n",
        "$ \\beta_o $ e $ \\beta_1 $ são parâmetros que determinam o peso e bias da rede. Para cada entrada $ X $ temos um $ Y_{predito} $ aproximado predito.\n",
        "\n",
        "![reta](/aulas/lab03/reta.png)\n",
        "<img src=\"https://github.com/arnaldojr/DisruptiveArchitectures/blob/master/material/aulas/lab03/reta.png?raw=1\">\n",
        "\n",
        "Essa ideia se estende para mais de um parâmetro independente, mas nesse caso não estamos associando a uma reta e sim a um plano ou hiperplano:\n",
        "\n",
        "$$\n",
        "Y_{predito} = \\beta_o + \\beta_1X_1 + \\beta_2X_2 + ... + \\beta_nX_n\\\\\n",
        "$$\n",
        "\n",
        "![plano](/aulas/lab03/plano.png)\n",
        "<img src=\"https://github.com/arnaldojr/DisruptiveArchitectures/blob/master/material/aulas/lab03/plano.png?raw=1\" width=\"450\">\n",
        "\n",
        "Em outras palavras, modelos de regressão linear são intuitivos, fáceis de interpretar e se ajustam aos dados razoavelmente bem em muitos problemas.\n"
      ]
    },
    {
      "cell_type": "markdown",
      "metadata": {
        "id": "oE3DC3azGEg7"
      },
      "source": [
        "## Bora lá!!\n",
        "\n",
        "Vamos desenvolver um projeto completo de regressão, desde a exploração inicial dos dados até a construção e avaliação do modelo final.\n",
        "\n"
      ]
    },
    {
      "cell_type": "markdown",
      "metadata": {
        "id": "wYDf3rrxGEg7"
      },
      "source": [
        "## Definição do problema\n",
        "\n",
        "Vamos explorar um dataset que contém informações detalhadas sobre 1303 modelos de notebooks. Este dataset foi compilado para nos ajudar a entender as características técnicas e de mercado.\n",
        "\n",
        "Informações importantes sobre o significado de cada um dos atributos\n",
        "\n",
        "- O dataset \"laptop_data.csv\" contém 1303 entradas e 12 colunas. \n",
        "\n",
        "- As colunas incluem:\n",
        "\n",
        "    - Unnamed: 0: Um índice ou identificador numérico para cada entrada.\n",
        "    - Company: A marca ou fabricante do laptop.\n",
        "    - TypeName: O tipo ou categoria do laptop (por exemplo, Notebook, Ultrabook, etc.).\n",
        "    - Inches: O tamanho da tela do laptop em polegadas.\n",
        "    - ScreenResolution: A resolução da tela do laptop.\n",
        "    - Cpu: O modelo e a especificação da CPU do laptop.\n",
        "    - Ram: A quantidade de RAM no laptop.\n",
        "    - Memory: O tipo e a capacidade de armazenamento (por exemplo, HDD, SSD).\n",
        "    - Gpu: A unidade de processamento gráfico (GPU) do laptop.\n",
        "    - OpSys: O sistema operacional instalado no laptop.\n",
        "    - Weight: O peso do laptop.\n",
        "    - Price: O preço do laptop.\n",
        "\n",
        "## Objetivo \n",
        "\n",
        "`Queremos desenvolver um modelo capaz de predizer o valor de um notebook.`\n"
      ]
    },
    {
      "cell_type": "markdown",
      "metadata": {
        "id": "LcqaBnrxGEg9"
      },
      "source": [
        "### Desafio 1\n",
        "\n",
        "Do ponto de vista de machine learning, que problema é esse:\n",
        "\n",
        "    Aprendizado supervisionado, não-supervisionado ou aprendizado por reforço?\n",
        "\n",
        "R:\n",
        "\n",
        "    Classificação, regressão ou clusterização?\n",
        "\n",
        "R:\n"
      ]
    },
    {
      "cell_type": "code",
      "execution_count": 62,
      "metadata": {
        "id": "YSHtyNoUGEg-"
      },
      "outputs": [],
      "source": [
        "# Inicializção das bibliotecas\n",
        "%matplotlib inline\n",
        "\n",
        "import pandas as pd\n",
        "import matplotlib.pyplot as plt\n",
        "import seaborn as sns\n"
      ]
    },
    {
      "cell_type": "code",
      "execution_count": 63,
      "metadata": {
        "colab": {
          "base_uri": "https://localhost:8080/"
        },
        "id": "0_tuUBM_GEhB",
        "outputId": "c60d4328-0a86-4362-dc8b-1b7581f85a9d"
      },
      "outputs": [],
      "source": [
        "df = pd.read_csv('laptop_data.csv')"
      ]
    },
    {
      "cell_type": "code",
      "execution_count": 65,
      "metadata": {
        "colab": {
          "base_uri": "https://localhost:8080/",
          "height": 206
        },
        "id": "3eWnXSI6GEhG",
        "outputId": "b4a50747-0876-4a2e-b94b-91c5d6576fc8"
      },
      "outputs": [
        {
          "data": {
            "text/html": [
              "<div>\n",
              "<style scoped>\n",
              "    .dataframe tbody tr th:only-of-type {\n",
              "        vertical-align: middle;\n",
              "    }\n",
              "\n",
              "    .dataframe tbody tr th {\n",
              "        vertical-align: top;\n",
              "    }\n",
              "\n",
              "    .dataframe thead th {\n",
              "        text-align: right;\n",
              "    }\n",
              "</style>\n",
              "<table border=\"1\" class=\"dataframe\">\n",
              "  <thead>\n",
              "    <tr style=\"text-align: right;\">\n",
              "      <th></th>\n",
              "      <th>Unnamed: 0</th>\n",
              "      <th>Company</th>\n",
              "      <th>TypeName</th>\n",
              "      <th>Inches</th>\n",
              "      <th>ScreenResolution</th>\n",
              "      <th>Cpu</th>\n",
              "      <th>Ram</th>\n",
              "      <th>Memory</th>\n",
              "      <th>Gpu</th>\n",
              "      <th>OpSys</th>\n",
              "      <th>Weight</th>\n",
              "      <th>Price</th>\n",
              "    </tr>\n",
              "  </thead>\n",
              "  <tbody>\n",
              "    <tr>\n",
              "      <th>0</th>\n",
              "      <td>0</td>\n",
              "      <td>Apple</td>\n",
              "      <td>Ultrabook</td>\n",
              "      <td>13.3</td>\n",
              "      <td>IPS Panel Retina Display 2560x1600</td>\n",
              "      <td>Intel Core i5 2.3GHz</td>\n",
              "      <td>8GB</td>\n",
              "      <td>128GB SSD</td>\n",
              "      <td>Intel Iris Plus Graphics 640</td>\n",
              "      <td>macOS</td>\n",
              "      <td>1.37kg</td>\n",
              "      <td>71378.6832</td>\n",
              "    </tr>\n",
              "    <tr>\n",
              "      <th>1</th>\n",
              "      <td>1</td>\n",
              "      <td>Apple</td>\n",
              "      <td>Ultrabook</td>\n",
              "      <td>13.3</td>\n",
              "      <td>1440x900</td>\n",
              "      <td>Intel Core i5 1.8GHz</td>\n",
              "      <td>8GB</td>\n",
              "      <td>128GB Flash Storage</td>\n",
              "      <td>Intel HD Graphics 6000</td>\n",
              "      <td>macOS</td>\n",
              "      <td>1.34kg</td>\n",
              "      <td>47895.5232</td>\n",
              "    </tr>\n",
              "    <tr>\n",
              "      <th>2</th>\n",
              "      <td>2</td>\n",
              "      <td>HP</td>\n",
              "      <td>Notebook</td>\n",
              "      <td>15.6</td>\n",
              "      <td>Full HD 1920x1080</td>\n",
              "      <td>Intel Core i5 7200U 2.5GHz</td>\n",
              "      <td>8GB</td>\n",
              "      <td>256GB SSD</td>\n",
              "      <td>Intel HD Graphics 620</td>\n",
              "      <td>No OS</td>\n",
              "      <td>1.86kg</td>\n",
              "      <td>30636.0000</td>\n",
              "    </tr>\n",
              "    <tr>\n",
              "      <th>3</th>\n",
              "      <td>3</td>\n",
              "      <td>Apple</td>\n",
              "      <td>Ultrabook</td>\n",
              "      <td>15.4</td>\n",
              "      <td>IPS Panel Retina Display 2880x1800</td>\n",
              "      <td>Intel Core i7 2.7GHz</td>\n",
              "      <td>16GB</td>\n",
              "      <td>512GB SSD</td>\n",
              "      <td>AMD Radeon Pro 455</td>\n",
              "      <td>macOS</td>\n",
              "      <td>1.83kg</td>\n",
              "      <td>135195.3360</td>\n",
              "    </tr>\n",
              "    <tr>\n",
              "      <th>4</th>\n",
              "      <td>4</td>\n",
              "      <td>Apple</td>\n",
              "      <td>Ultrabook</td>\n",
              "      <td>13.3</td>\n",
              "      <td>IPS Panel Retina Display 2560x1600</td>\n",
              "      <td>Intel Core i5 3.1GHz</td>\n",
              "      <td>8GB</td>\n",
              "      <td>256GB SSD</td>\n",
              "      <td>Intel Iris Plus Graphics 650</td>\n",
              "      <td>macOS</td>\n",
              "      <td>1.37kg</td>\n",
              "      <td>96095.8080</td>\n",
              "    </tr>\n",
              "  </tbody>\n",
              "</table>\n",
              "</div>"
            ],
            "text/plain": [
              "   Unnamed: 0 Company   TypeName  Inches                    ScreenResolution  \\\n",
              "0           0   Apple  Ultrabook    13.3  IPS Panel Retina Display 2560x1600   \n",
              "1           1   Apple  Ultrabook    13.3                            1440x900   \n",
              "2           2      HP   Notebook    15.6                   Full HD 1920x1080   \n",
              "3           3   Apple  Ultrabook    15.4  IPS Panel Retina Display 2880x1800   \n",
              "4           4   Apple  Ultrabook    13.3  IPS Panel Retina Display 2560x1600   \n",
              "\n",
              "                          Cpu   Ram               Memory  \\\n",
              "0        Intel Core i5 2.3GHz   8GB            128GB SSD   \n",
              "1        Intel Core i5 1.8GHz   8GB  128GB Flash Storage   \n",
              "2  Intel Core i5 7200U 2.5GHz   8GB            256GB SSD   \n",
              "3        Intel Core i7 2.7GHz  16GB            512GB SSD   \n",
              "4        Intel Core i5 3.1GHz   8GB            256GB SSD   \n",
              "\n",
              "                            Gpu  OpSys  Weight        Price  \n",
              "0  Intel Iris Plus Graphics 640  macOS  1.37kg   71378.6832  \n",
              "1        Intel HD Graphics 6000  macOS  1.34kg   47895.5232  \n",
              "2         Intel HD Graphics 620  No OS  1.86kg   30636.0000  \n",
              "3            AMD Radeon Pro 455  macOS  1.83kg  135195.3360  \n",
              "4  Intel Iris Plus Graphics 650  macOS  1.37kg   96095.8080  "
            ]
          },
          "execution_count": 65,
          "metadata": {},
          "output_type": "execute_result"
        }
      ],
      "source": [
        "# Verifique se o dataset foi carregado corretamente, \n",
        "# imprimindo o nome das colunas do dataset e as primeiras linhas do dataset \n",
        "# use o comando head() para visualizar as primeiras linhas do dataset\n",
        "\n",
        "df.head()\n",
        "\n",
        "\n",
        "\n",
        "\n"
      ]
    },
    {
      "cell_type": "code",
      "execution_count": 66,
      "metadata": {},
      "outputs": [],
      "source": [
        "# verificando se existem valores duplicados \n",
        "\n",
        "df.duplicated().sum()\n",
        "\n",
        "# dropando as linhas duplicadas\n",
        "\n",
        "df.drop_duplicates(inplace=True)"
      ]
    },
    {
      "cell_type": "code",
      "execution_count": 67,
      "metadata": {
        "colab": {
          "base_uri": "https://localhost:8080/",
          "height": 206
        },
        "id": "aKNYHTR5GEhH",
        "outputId": "c7e25f74-bc3a-434b-d91f-796e0393dd49"
      },
      "outputs": [],
      "source": [
        "# drop a coluna Unnamed: 0 do dataset e imprima novamente as primeiras linhas do dataset\n",
        "\n",
        "df.drop(columns=['Unnamed: 0'],inplace=True)"
      ]
    },
    {
      "cell_type": "markdown",
      "metadata": {
        "id": "Vzw6VLduGEhI"
      },
      "source": [
        "### Desafio 2\n",
        "\n",
        "Use os metodos info() e describe() para exibir as informações do dataframe e responda:\n",
        "\n",
        "Existe dados faltantes?\n",
        "\n",
        "Qual o tipo de dados dos atributos, isso faz sentido?\n"
      ]
    },
    {
      "cell_type": "code",
      "execution_count": 68,
      "metadata": {
        "colab": {
          "base_uri": "https://localhost:8080/"
        },
        "id": "jRo2rJotGEhK",
        "outputId": "f7242b69-cc27-46ac-8066-0242130cef77"
      },
      "outputs": [
        {
          "name": "stdout",
          "output_type": "stream",
          "text": [
            "<class 'pandas.core.frame.DataFrame'>\n",
            "RangeIndex: 1303 entries, 0 to 1302\n",
            "Data columns (total 11 columns):\n",
            " #   Column            Non-Null Count  Dtype  \n",
            "---  ------            --------------  -----  \n",
            " 0   Company           1303 non-null   object \n",
            " 1   TypeName          1303 non-null   object \n",
            " 2   Inches            1303 non-null   float64\n",
            " 3   ScreenResolution  1303 non-null   object \n",
            " 4   Cpu               1303 non-null   object \n",
            " 5   Ram               1303 non-null   object \n",
            " 6   Memory            1303 non-null   object \n",
            " 7   Gpu               1303 non-null   object \n",
            " 8   OpSys             1303 non-null   object \n",
            " 9   Weight            1303 non-null   object \n",
            " 10  Price             1303 non-null   float64\n",
            "dtypes: float64(2), object(9)\n",
            "memory usage: 112.1+ KB\n"
          ]
        }
      ],
      "source": [
        "# use o comando info() para visualizar as informações do dataset\n",
        "df.info()"
      ]
    },
    {
      "cell_type": "code",
      "execution_count": 69,
      "metadata": {
        "colab": {
          "base_uri": "https://localhost:8080/",
          "height": 364
        },
        "id": "Yu4RW4b2GEhL",
        "outputId": "45052fb7-ce42-4ed2-c871-69d67cac64f4"
      },
      "outputs": [
        {
          "data": {
            "text/html": [
              "<div>\n",
              "<style scoped>\n",
              "    .dataframe tbody tr th:only-of-type {\n",
              "        vertical-align: middle;\n",
              "    }\n",
              "\n",
              "    .dataframe tbody tr th {\n",
              "        vertical-align: top;\n",
              "    }\n",
              "\n",
              "    .dataframe thead th {\n",
              "        text-align: right;\n",
              "    }\n",
              "</style>\n",
              "<table border=\"1\" class=\"dataframe\">\n",
              "  <thead>\n",
              "    <tr style=\"text-align: right;\">\n",
              "      <th></th>\n",
              "      <th>Inches</th>\n",
              "      <th>Price</th>\n",
              "    </tr>\n",
              "  </thead>\n",
              "  <tbody>\n",
              "    <tr>\n",
              "      <th>count</th>\n",
              "      <td>1303.000000</td>\n",
              "      <td>1303.000000</td>\n",
              "    </tr>\n",
              "    <tr>\n",
              "      <th>mean</th>\n",
              "      <td>15.017191</td>\n",
              "      <td>59870.042910</td>\n",
              "    </tr>\n",
              "    <tr>\n",
              "      <th>std</th>\n",
              "      <td>1.426304</td>\n",
              "      <td>37243.201786</td>\n",
              "    </tr>\n",
              "    <tr>\n",
              "      <th>min</th>\n",
              "      <td>10.100000</td>\n",
              "      <td>9270.720000</td>\n",
              "    </tr>\n",
              "    <tr>\n",
              "      <th>25%</th>\n",
              "      <td>14.000000</td>\n",
              "      <td>31914.720000</td>\n",
              "    </tr>\n",
              "    <tr>\n",
              "      <th>50%</th>\n",
              "      <td>15.600000</td>\n",
              "      <td>52054.560000</td>\n",
              "    </tr>\n",
              "    <tr>\n",
              "      <th>75%</th>\n",
              "      <td>15.600000</td>\n",
              "      <td>79274.246400</td>\n",
              "    </tr>\n",
              "    <tr>\n",
              "      <th>max</th>\n",
              "      <td>18.400000</td>\n",
              "      <td>324954.720000</td>\n",
              "    </tr>\n",
              "  </tbody>\n",
              "</table>\n",
              "</div>"
            ],
            "text/plain": [
              "            Inches          Price\n",
              "count  1303.000000    1303.000000\n",
              "mean     15.017191   59870.042910\n",
              "std       1.426304   37243.201786\n",
              "min      10.100000    9270.720000\n",
              "25%      14.000000   31914.720000\n",
              "50%      15.600000   52054.560000\n",
              "75%      15.600000   79274.246400\n",
              "max      18.400000  324954.720000"
            ]
          },
          "execution_count": 69,
          "metadata": {},
          "output_type": "execute_result"
        }
      ],
      "source": [
        "# use o comando describe() para visualizar as estatísticas do dataset\n",
        "df.describe()"
      ]
    },
    {
      "cell_type": "markdown",
      "metadata": {},
      "source": [
        "Dentre outras análises, é esperado que você tenha reparado que os atributos `Ram` e `Weight` estão como object. Como sugestão, podemos converter esses atributos para dado numérico."
      ]
    },
    {
      "cell_type": "code",
      "execution_count": 70,
      "metadata": {},
      "outputs": [],
      "source": [
        "# usamos o comando str.replace() para remover a unidade de medida dos valores\n",
        "df['Ram'] = df['Ram'].str.replace('GB','')\n",
        "df['Weight'] = df['Weight'].str.replace('kg','')\n",
        "\n",
        "# usamos o comando astype() para converter os valores para o tipo numérico\n",
        "df['Ram'] = df['Ram'].astype('int32')\n",
        "df['Weight'] = df['Weight'].astype('float32')\n"
      ]
    },
    {
      "cell_type": "code",
      "execution_count": 71,
      "metadata": {},
      "outputs": [
        {
          "name": "stdout",
          "output_type": "stream",
          "text": [
            "<class 'pandas.core.frame.DataFrame'>\n",
            "RangeIndex: 1303 entries, 0 to 1302\n",
            "Data columns (total 11 columns):\n",
            " #   Column            Non-Null Count  Dtype  \n",
            "---  ------            --------------  -----  \n",
            " 0   Company           1303 non-null   object \n",
            " 1   TypeName          1303 non-null   object \n",
            " 2   Inches            1303 non-null   float64\n",
            " 3   ScreenResolution  1303 non-null   object \n",
            " 4   Cpu               1303 non-null   object \n",
            " 5   Ram               1303 non-null   int32  \n",
            " 6   Memory            1303 non-null   object \n",
            " 7   Gpu               1303 non-null   object \n",
            " 8   OpSys             1303 non-null   object \n",
            " 9   Weight            1303 non-null   float32\n",
            " 10  Price             1303 non-null   float64\n",
            "dtypes: float32(1), float64(2), int32(1), object(7)\n",
            "memory usage: 101.9+ KB\n"
          ]
        }
      ],
      "source": [
        "# use o comando info() para visualizar as informações do dataset após a conversão\n",
        "df.info()\n",
        "\n",
        "\n"
      ]
    },
    {
      "cell_type": "code",
      "execution_count": 72,
      "metadata": {},
      "outputs": [
        {
          "data": {
            "text/html": [
              "<div>\n",
              "<style scoped>\n",
              "    .dataframe tbody tr th:only-of-type {\n",
              "        vertical-align: middle;\n",
              "    }\n",
              "\n",
              "    .dataframe tbody tr th {\n",
              "        vertical-align: top;\n",
              "    }\n",
              "\n",
              "    .dataframe thead th {\n",
              "        text-align: right;\n",
              "    }\n",
              "</style>\n",
              "<table border=\"1\" class=\"dataframe\">\n",
              "  <thead>\n",
              "    <tr style=\"text-align: right;\">\n",
              "      <th></th>\n",
              "      <th>Inches</th>\n",
              "      <th>Ram</th>\n",
              "      <th>Weight</th>\n",
              "      <th>Price</th>\n",
              "    </tr>\n",
              "  </thead>\n",
              "  <tbody>\n",
              "    <tr>\n",
              "      <th>count</th>\n",
              "      <td>1303.000000</td>\n",
              "      <td>1303.000000</td>\n",
              "      <td>1303.000000</td>\n",
              "      <td>1303.000000</td>\n",
              "    </tr>\n",
              "    <tr>\n",
              "      <th>mean</th>\n",
              "      <td>15.017191</td>\n",
              "      <td>8.382195</td>\n",
              "      <td>2.038734</td>\n",
              "      <td>59870.042910</td>\n",
              "    </tr>\n",
              "    <tr>\n",
              "      <th>std</th>\n",
              "      <td>1.426304</td>\n",
              "      <td>5.084665</td>\n",
              "      <td>0.665475</td>\n",
              "      <td>37243.201786</td>\n",
              "    </tr>\n",
              "    <tr>\n",
              "      <th>min</th>\n",
              "      <td>10.100000</td>\n",
              "      <td>2.000000</td>\n",
              "      <td>0.690000</td>\n",
              "      <td>9270.720000</td>\n",
              "    </tr>\n",
              "    <tr>\n",
              "      <th>25%</th>\n",
              "      <td>14.000000</td>\n",
              "      <td>4.000000</td>\n",
              "      <td>1.500000</td>\n",
              "      <td>31914.720000</td>\n",
              "    </tr>\n",
              "    <tr>\n",
              "      <th>50%</th>\n",
              "      <td>15.600000</td>\n",
              "      <td>8.000000</td>\n",
              "      <td>2.040000</td>\n",
              "      <td>52054.560000</td>\n",
              "    </tr>\n",
              "    <tr>\n",
              "      <th>75%</th>\n",
              "      <td>15.600000</td>\n",
              "      <td>8.000000</td>\n",
              "      <td>2.300000</td>\n",
              "      <td>79274.246400</td>\n",
              "    </tr>\n",
              "    <tr>\n",
              "      <th>max</th>\n",
              "      <td>18.400000</td>\n",
              "      <td>64.000000</td>\n",
              "      <td>4.700000</td>\n",
              "      <td>324954.720000</td>\n",
              "    </tr>\n",
              "  </tbody>\n",
              "</table>\n",
              "</div>"
            ],
            "text/plain": [
              "            Inches          Ram       Weight          Price\n",
              "count  1303.000000  1303.000000  1303.000000    1303.000000\n",
              "mean     15.017191     8.382195     2.038734   59870.042910\n",
              "std       1.426304     5.084665     0.665475   37243.201786\n",
              "min      10.100000     2.000000     0.690000    9270.720000\n",
              "25%      14.000000     4.000000     1.500000   31914.720000\n",
              "50%      15.600000     8.000000     2.040000   52054.560000\n",
              "75%      15.600000     8.000000     2.300000   79274.246400\n",
              "max      18.400000    64.000000     4.700000  324954.720000"
            ]
          },
          "execution_count": 72,
          "metadata": {},
          "output_type": "execute_result"
        }
      ],
      "source": [
        "# use o comando describe() para visualizar as estatísticas do dataset após a conversão \n",
        "df.describe()\n",
        "\n",
        "\n"
      ]
    },
    {
      "cell_type": "markdown",
      "metadata": {
        "id": "mzJa2fRHGEhM"
      },
      "source": [
        "### Explorando os Dados Visualmente\n",
        "\n",
        "\n",
        "Agora, vamos mergulhar nos dados para descobrir padrões, tendências e insights que só podem ser revelados por uma análise visual. Elabore análises para tentar responder algumas das seguintes perguntas:\n",
        "\n",
        "- Como o tamanho da tela influencia o preço?\n",
        "- Qual a marca de notebook que mais vende?\n",
        "- A marca que mais vende é a que possui os maiores preços?\n",
        "- Existe uma correlação entre a marca do laptop e o tipo de GPU utilizado?\n",
        "- Quais são as faixas de preços mais comuns? Certos tipos de laptops dominam o mercado?\n",
        "- Será que a distribuição de preços varia muito entre diferentes marcas? E entre diferentes tipos de memória?\n",
        "- Existem laptops com preços ou especificações muito fora do comum?\n",
        "\n",
        "Aplique os métodos que achar conveniente (já vimos algumas opções em aula) para visualizar os dados de forma gráfica. Use esses gráficos para identificar padrões e relações que podem ser explorados em análises mais profundas.\n"
      ]
    },
    {
      "cell_type": "code",
      "execution_count": 8,
      "metadata": {
        "id": "E7HkNlYBGEhN"
      },
      "outputs": [],
      "source": [
        "## Sua resposta e seus gráficos para análisar..\n",
        "\n",
        "\n",
        "\n",
        "\n",
        "\n"
      ]
    },
    {
      "cell_type": "code",
      "execution_count": null,
      "metadata": {},
      "outputs": [],
      "source": [
        "## Sua resposta e seus gráficos para análisar.."
      ]
    },
    {
      "cell_type": "code",
      "execution_count": null,
      "metadata": {},
      "outputs": [],
      "source": [
        "## Sua resposta e seus gráficos para análisar.."
      ]
    },
    {
      "cell_type": "code",
      "execution_count": null,
      "metadata": {},
      "outputs": [],
      "source": [
        "## Sua resposta e seus gráficos para análisar.."
      ]
    },
    {
      "cell_type": "code",
      "execution_count": null,
      "metadata": {},
      "outputs": [],
      "source": [
        "## Sua resposta e seus gráficos para análisar.."
      ]
    },
    {
      "cell_type": "markdown",
      "metadata": {},
      "source": [
        "## Pré-processamento de dados\n",
        "\n",
        "Vamos imaginar que estamos interessados em saber se a presença de uma tela touchscreen influencia o preço de um laptop. \n",
        "\n",
        "- `Como você extrairia informação dos dados que temos em formato de texto e a transformaria em algo que possa ser visualizado ou modelado?`\n",
        "\n"
      ]
    },
    {
      "cell_type": "code",
      "execution_count": 73,
      "metadata": {},
      "outputs": [
        {
          "data": {
            "text/plain": [
              "ScreenResolution\n",
              "Full HD 1920x1080                                507\n",
              "1366x768                                         281\n",
              "IPS Panel Full HD 1920x1080                      230\n",
              "IPS Panel Full HD / Touchscreen 1920x1080         53\n",
              "Full HD / Touchscreen 1920x1080                   47\n",
              "1600x900                                          23\n",
              "Touchscreen 1366x768                              16\n",
              "Quad HD+ / Touchscreen 3200x1800                  15\n",
              "IPS Panel 4K Ultra HD 3840x2160                   12\n",
              "IPS Panel 4K Ultra HD / Touchscreen 3840x2160     11\n",
              "4K Ultra HD / Touchscreen 3840x2160               10\n",
              "4K Ultra HD 3840x2160                              7\n",
              "Touchscreen 2560x1440                              7\n",
              "IPS Panel 1366x768                                 7\n",
              "IPS Panel Quad HD+ / Touchscreen 3200x1800         6\n",
              "IPS Panel Retina Display 2560x1600                 6\n",
              "IPS Panel Retina Display 2304x1440                 6\n",
              "Touchscreen 2256x1504                              6\n",
              "IPS Panel Touchscreen 2560x1440                    5\n",
              "IPS Panel Retina Display 2880x1800                 4\n",
              "IPS Panel Touchscreen 1920x1200                    4\n",
              "1440x900                                           4\n",
              "IPS Panel 2560x1440                                4\n",
              "IPS Panel Quad HD+ 2560x1440                       3\n",
              "Quad HD+ 3200x1800                                 3\n",
              "1920x1080                                          3\n",
              "Touchscreen 2400x1600                              3\n",
              "2560x1440                                          3\n",
              "IPS Panel Touchscreen 1366x768                     3\n",
              "IPS Panel Touchscreen / 4K Ultra HD 3840x2160      2\n",
              "IPS Panel Full HD 2160x1440                        2\n",
              "IPS Panel Quad HD+ 3200x1800                       2\n",
              "IPS Panel Retina Display 2736x1824                 1\n",
              "IPS Panel Full HD 1920x1200                        1\n",
              "IPS Panel Full HD 2560x1440                        1\n",
              "IPS Panel Full HD 1366x768                         1\n",
              "Touchscreen / Full HD 1920x1080                    1\n",
              "Touchscreen / Quad HD+ 3200x1800                   1\n",
              "Touchscreen / 4K Ultra HD 3840x2160                1\n",
              "IPS Panel Touchscreen 2400x1600                    1\n",
              "Name: count, dtype: int64"
            ]
          },
          "execution_count": 73,
          "metadata": {},
          "output_type": "execute_result"
        }
      ],
      "source": [
        "# vamos explorar o atributo ScreenResolution\n",
        "# use o comando value_counts() para visualizar a frequência dos valores do atributo ScreenResolution\n",
        "\n",
        "df['ScreenResolution'].value_counts()\n",
        "\n"
      ]
    },
    {
      "cell_type": "markdown",
      "metadata": {},
      "source": [
        "Vamos aplicar uma transformação em nossos dados: \n",
        "\n",
        "- Vamos realizar uma transformação em nossos dados usando o atributo ScreenResolution. \n",
        "- Vamos analisar os valores presentes nessa coluna e verificar se eles contêm a informação sobre a presença de uma tela touchscreen. \n",
        "- A partir dessa verificação, criaremos uma nova coluna `Touchscreen` que indicará, de forma binária, se o laptop possui ou não uma tela touchscreen (1 para sim e 0 para não)."
      ]
    },
    {
      "cell_type": "code",
      "execution_count": 74,
      "metadata": {},
      "outputs": [],
      "source": [
        "# Vamos criar uma nova coluna chamada 'Touchscreen' que recebe 1 se o valor da coluna 'ScreenResolution' contém a palavra 'Touchscreen' e 0 caso contrário\n",
        "df['Touchscreen'] = df['ScreenResolution'].apply(lambda x:1 if 'Touchscreen' in x else 0)\n"
      ]
    },
    {
      "cell_type": "code",
      "execution_count": 75,
      "metadata": {},
      "outputs": [
        {
          "data": {
            "text/plain": [
              "<Axes: xlabel='Touchscreen'>"
            ]
          },
          "execution_count": 75,
          "metadata": {},
          "output_type": "execute_result"
        },
        {
          "data": {
            "image/png": "[encoded data removed]",
            "text/plain": [
              "<Figure size 640x480 with 1 Axes>"
            ]
          },
          "metadata": {},
          "output_type": "display_data"
        }
      ],
      "source": [
        "# podemos visualizar graficamente a quantidade de laptops com e sem touchscreen\n",
        "df['Touchscreen'].value_counts().plot(kind='bar')"
      ]
    },
    {
      "cell_type": "code",
      "execution_count": 76,
      "metadata": {},
      "outputs": [
        {
          "data": {
            "text/plain": [
              "<Axes: xlabel='Touchscreen', ylabel='Price'>"
            ]
          },
          "execution_count": 76,
          "metadata": {},
          "output_type": "execute_result"
        },
        {
          "data": {
            "image/png": "[encoded data removed]",
            "text/plain": [
              "<Figure size 640x480 with 1 Axes>"
            ]
          },
          "metadata": {},
          "output_type": "display_data"
        }
      ],
      "source": [
        "# avaliando o preço com e sem touchscreen\n",
        "sns.barplot(x=df['Touchscreen'],y=df['Price'])"
      ]
    },
    {
      "cell_type": "markdown",
      "metadata": {},
      "source": [
        "## Desafio 3 \n",
        "\n",
        "Implemente as seguintes transformações nos dados:\n",
        "\n",
        "- criar uma nova coluna chamada 'Ips' que recebe 1 se o valor da coluna 'ScreenResolution' contém a palavra 'IPS' e 0 caso contrário.\n",
        "\n"
      ]
    },
    {
      "cell_type": "code",
      "execution_count": null,
      "metadata": {},
      "outputs": [],
      "source": [
        "## Sua resposta aqui"
      ]
    },
    {
      "cell_type": "markdown",
      "metadata": {},
      "source": [
        "## Desafio 4\n",
        "\n",
        "- criar uma nova coluna chamada 'Cpu Name' que recebe da coluna 'Cpu' o nome do fabricante da cpu, Intel, AMD e outros...\n"
      ]
    },
    {
      "cell_type": "code",
      "execution_count": null,
      "metadata": {},
      "outputs": [],
      "source": [
        "## Sua resposta aqui"
      ]
    },
    {
      "cell_type": "markdown",
      "metadata": {},
      "source": [
        "## Desafio 5\n",
        "\n",
        "- criar uma nova coluna chamada 'Cpu Name' que recebe da coluna 'Cpu' o nome do fabricante da cpu, Intel, AMD e outros...\n"
      ]
    },
    {
      "cell_type": "code",
      "execution_count": null,
      "metadata": {},
      "outputs": [],
      "source": [
        "## Sua resposta aqui"
      ]
    },
    {
      "cell_type": "markdown",
      "metadata": {},
      "source": [
        "## Desafio 6\n",
        "\n",
        "- criar uma nova coluna chamada 'Gpu Name' que recebe da coluna 'Gpu' o nome do fabricante da cpu, Nvidia, Intel e AMD.\n"
      ]
    },
    {
      "cell_type": "code",
      "execution_count": null,
      "metadata": {},
      "outputs": [],
      "source": [
        "## Sua resposta aqui"
      ]
    },
    {
      "cell_type": "markdown",
      "metadata": {},
      "source": [
        "## Desafio resolvido\n",
        "\n",
        "- criar uma nova coluna chamada 'os' que recebe da coluna 'OpSys' o nome do fabricante do sistema operacional: Windows, MAC, Linux."
      ]
    },
    {
      "cell_type": "code",
      "execution_count": 77,
      "metadata": {},
      "outputs": [
        {
          "data": {
            "text/plain": [
              "OpSys\n",
              "Windows 10      1072\n",
              "No OS             66\n",
              "Linux             62\n",
              "Windows 7         45\n",
              "Chrome OS         27\n",
              "macOS             13\n",
              "Mac OS X           8\n",
              "Windows 10 S       8\n",
              "Android            2\n",
              "Name: count, dtype: int64"
            ]
          },
          "execution_count": 77,
          "metadata": {},
          "output_type": "execute_result"
        }
      ],
      "source": [
        "# Vamos explorar o atributo 'OpSys'\n",
        "df['OpSys'].value_counts()"
      ]
    },
    {
      "cell_type": "code",
      "execution_count": 78,
      "metadata": {},
      "outputs": [
        {
          "data": {
            "image/png": "[encoded data removed]",
            "text/plain": [
              "<Figure size 640x480 with 1 Axes>"
            ]
          },
          "metadata": {},
          "output_type": "display_data"
        }
      ],
      "source": [
        "# podemos visualizar graficamente a quantidade de laptops com cada sistema operacional\n",
        "sns.barplot(x=df['OpSys'],y=df['Price'])\n",
        "plt.xticks(rotation='vertical')\n",
        "plt.show()"
      ]
    },
    {
      "cell_type": "code",
      "execution_count": 79,
      "metadata": {},
      "outputs": [],
      "source": [
        "# vamos criar uma nova coluna chamada 'OS' que recebe o valor 'Windows' se o valor da coluna 'OpSys' for 'Windows 10', 'Windows 7' ou 'Windows 10 S', 'Mac' se o valor for 'macOS' ou 'Mac OS X' e 'Others/No OS/Linux' caso contrário\n",
        "\n",
        "def cat_os(inp):\n",
        "    if inp == 'Windows 10' or inp == 'Windows 7' or inp == 'Windows 10 S':\n",
        "        return 'Windows'\n",
        "    elif inp == 'macOS' or inp == 'Mac OS X':\n",
        "        return 'Mac'\n",
        "    else:\n",
        "        return 'Others/No OS/Linux'\n",
        "\n",
        "df['OS'] = df['OpSys'].apply(cat_os)"
      ]
    },
    {
      "cell_type": "code",
      "execution_count": 80,
      "metadata": {},
      "outputs": [
        {
          "data": {
            "image/png": "[encoded data removed]",
            "text/plain": [
              "<Figure size 640x480 with 1 Axes>"
            ]
          },
          "metadata": {},
          "output_type": "display_data"
        }
      ],
      "source": [
        "# podemos visualizar graficamente a quantidade de laptops com cada sistema operacional\n",
        "sns.barplot(x=df['OS'],y=df['Price'])\n",
        "plt.xticks(rotation='vertical')\n",
        "plt.show()"
      ]
    },
    {
      "cell_type": "code",
      "execution_count": 81,
      "metadata": {},
      "outputs": [
        {
          "data": {
            "text/plain": [
              "OS\n",
              "Windows               1125\n",
              "Others/No OS/Linux     157\n",
              "Mac                     21\n",
              "Name: count, dtype: int64"
            ]
          },
          "execution_count": 81,
          "metadata": {},
          "output_type": "execute_result"
        }
      ],
      "source": [
        "# Vamos explorar o atributo 'OS'\n",
        "df['OS'].value_counts()"
      ]
    },
    {
      "cell_type": "code",
      "execution_count": 82,
      "metadata": {},
      "outputs": [
        {
          "data": {
            "text/html": [
              "<div>\n",
              "<style scoped>\n",
              "    .dataframe tbody tr th:only-of-type {\n",
              "        vertical-align: middle;\n",
              "    }\n",
              "\n",
              "    .dataframe tbody tr th {\n",
              "        vertical-align: top;\n",
              "    }\n",
              "\n",
              "    .dataframe thead th {\n",
              "        text-align: right;\n",
              "    }\n",
              "</style>\n",
              "<table border=\"1\" class=\"dataframe\">\n",
              "  <thead>\n",
              "    <tr style=\"text-align: right;\">\n",
              "      <th></th>\n",
              "      <th>Company</th>\n",
              "      <th>TypeName</th>\n",
              "      <th>Inches</th>\n",
              "      <th>ScreenResolution</th>\n",
              "      <th>Cpu</th>\n",
              "      <th>Ram</th>\n",
              "      <th>Memory</th>\n",
              "      <th>Gpu</th>\n",
              "      <th>OpSys</th>\n",
              "      <th>Weight</th>\n",
              "      <th>Price</th>\n",
              "      <th>Touchscreen</th>\n",
              "      <th>OS</th>\n",
              "    </tr>\n",
              "  </thead>\n",
              "  <tbody>\n",
              "    <tr>\n",
              "      <th>0</th>\n",
              "      <td>Apple</td>\n",
              "      <td>Ultrabook</td>\n",
              "      <td>13.3</td>\n",
              "      <td>IPS Panel Retina Display 2560x1600</td>\n",
              "      <td>Intel Core i5 2.3GHz</td>\n",
              "      <td>8</td>\n",
              "      <td>128GB SSD</td>\n",
              "      <td>Intel Iris Plus Graphics 640</td>\n",
              "      <td>macOS</td>\n",
              "      <td>1.37</td>\n",
              "      <td>71378.6832</td>\n",
              "      <td>0</td>\n",
              "      <td>Mac</td>\n",
              "    </tr>\n",
              "    <tr>\n",
              "      <th>1</th>\n",
              "      <td>Apple</td>\n",
              "      <td>Ultrabook</td>\n",
              "      <td>13.3</td>\n",
              "      <td>1440x900</td>\n",
              "      <td>Intel Core i5 1.8GHz</td>\n",
              "      <td>8</td>\n",
              "      <td>128GB Flash Storage</td>\n",
              "      <td>Intel HD Graphics 6000</td>\n",
              "      <td>macOS</td>\n",
              "      <td>1.34</td>\n",
              "      <td>47895.5232</td>\n",
              "      <td>0</td>\n",
              "      <td>Mac</td>\n",
              "    </tr>\n",
              "    <tr>\n",
              "      <th>2</th>\n",
              "      <td>HP</td>\n",
              "      <td>Notebook</td>\n",
              "      <td>15.6</td>\n",
              "      <td>Full HD 1920x1080</td>\n",
              "      <td>Intel Core i5 7200U 2.5GHz</td>\n",
              "      <td>8</td>\n",
              "      <td>256GB SSD</td>\n",
              "      <td>Intel HD Graphics 620</td>\n",
              "      <td>No OS</td>\n",
              "      <td>1.86</td>\n",
              "      <td>30636.0000</td>\n",
              "      <td>0</td>\n",
              "      <td>Others/No OS/Linux</td>\n",
              "    </tr>\n",
              "    <tr>\n",
              "      <th>3</th>\n",
              "      <td>Apple</td>\n",
              "      <td>Ultrabook</td>\n",
              "      <td>15.4</td>\n",
              "      <td>IPS Panel Retina Display 2880x1800</td>\n",
              "      <td>Intel Core i7 2.7GHz</td>\n",
              "      <td>16</td>\n",
              "      <td>512GB SSD</td>\n",
              "      <td>AMD Radeon Pro 455</td>\n",
              "      <td>macOS</td>\n",
              "      <td>1.83</td>\n",
              "      <td>135195.3360</td>\n",
              "      <td>0</td>\n",
              "      <td>Mac</td>\n",
              "    </tr>\n",
              "    <tr>\n",
              "      <th>4</th>\n",
              "      <td>Apple</td>\n",
              "      <td>Ultrabook</td>\n",
              "      <td>13.3</td>\n",
              "      <td>IPS Panel Retina Display 2560x1600</td>\n",
              "      <td>Intel Core i5 3.1GHz</td>\n",
              "      <td>8</td>\n",
              "      <td>256GB SSD</td>\n",
              "      <td>Intel Iris Plus Graphics 650</td>\n",
              "      <td>macOS</td>\n",
              "      <td>1.37</td>\n",
              "      <td>96095.8080</td>\n",
              "      <td>0</td>\n",
              "      <td>Mac</td>\n",
              "    </tr>\n",
              "  </tbody>\n",
              "</table>\n",
              "</div>"
            ],
            "text/plain": [
              "  Company   TypeName  Inches                    ScreenResolution  \\\n",
              "0   Apple  Ultrabook    13.3  IPS Panel Retina Display 2560x1600   \n",
              "1   Apple  Ultrabook    13.3                            1440x900   \n",
              "2      HP   Notebook    15.6                   Full HD 1920x1080   \n",
              "3   Apple  Ultrabook    15.4  IPS Panel Retina Display 2880x1800   \n",
              "4   Apple  Ultrabook    13.3  IPS Panel Retina Display 2560x1600   \n",
              "\n",
              "                          Cpu  Ram               Memory  \\\n",
              "0        Intel Core i5 2.3GHz    8            128GB SSD   \n",
              "1        Intel Core i5 1.8GHz    8  128GB Flash Storage   \n",
              "2  Intel Core i5 7200U 2.5GHz    8            256GB SSD   \n",
              "3        Intel Core i7 2.7GHz   16            512GB SSD   \n",
              "4        Intel Core i5 3.1GHz    8            256GB SSD   \n",
              "\n",
              "                            Gpu  OpSys  Weight        Price  Touchscreen  \\\n",
              "0  Intel Iris Plus Graphics 640  macOS    1.37   71378.6832            0   \n",
              "1        Intel HD Graphics 6000  macOS    1.34   47895.5232            0   \n",
              "2         Intel HD Graphics 620  No OS    1.86   30636.0000            0   \n",
              "3            AMD Radeon Pro 455  macOS    1.83  135195.3360            0   \n",
              "4  Intel Iris Plus Graphics 650  macOS    1.37   96095.8080            0   \n",
              "\n",
              "                   OS  \n",
              "0                 Mac  \n",
              "1                 Mac  \n",
              "2  Others/No OS/Linux  \n",
              "3                 Mac  \n",
              "4                 Mac  "
            ]
          },
          "execution_count": 82,
          "metadata": {},
          "output_type": "execute_result"
        }
      ],
      "source": [
        "df.head()"
      ]
    },
    {
      "cell_type": "markdown",
      "metadata": {},
      "source": [
        "## Desafio 7\n",
        "\n",
        "- Análise o atributo `Memory`, visualize os tipos de memoria existentes: É espeperado que você consiga observar 4 tipos de memoria, são elas: \n",
        "    - HDD\t\n",
        "    - SSD\t\n",
        "    - Hybrid\t\n",
        "    - Flash_Storage\n",
        "\n",
        "- Faça a conversão de unidade: Note que a capacidade de armazenamento variam bastante e devem ser padronizadas em GB, os valores em TB devem ser convertidos para GB, ou seja 1TB = 1000GB.\n",
        "- Crie novas colunas chamadas 'SSD', 'HDD', 'Hybrid' e 'Flash_Storage' que recebe da coluna 'Memory' o valor da capacidade de memoria.\n",
        "- Note que em alguns casos uma entrada de dados possui mais de um tipo de memoria '512GB SSD +  2TB HDD' e nesse caso deve ser alocado o valor correto nas duas colunas.\n"
      ]
    },
    {
      "cell_type": "code",
      "execution_count": 27,
      "metadata": {},
      "outputs": [],
      "source": [
        "## Sua resposta aqui\n",
        "\n",
        "\n"
      ]
    },
    {
      "cell_type": "markdown",
      "metadata": {},
      "source": [
        "### Avaliação de correlação\n",
        "\n",
        "Vamos explorar a correlação entre os atributos numéricos"
      ]
    },
    {
      "cell_type": "code",
      "execution_count": 83,
      "metadata": {},
      "outputs": [
        {
          "name": "stdout",
          "output_type": "stream",
          "text": [
            "<class 'pandas.core.frame.DataFrame'>\n",
            "RangeIndex: 1303 entries, 0 to 1302\n",
            "Data columns (total 13 columns):\n",
            " #   Column            Non-Null Count  Dtype  \n",
            "---  ------            --------------  -----  \n",
            " 0   Company           1303 non-null   object \n",
            " 1   TypeName          1303 non-null   object \n",
            " 2   Inches            1303 non-null   float64\n",
            " 3   ScreenResolution  1303 non-null   object \n",
            " 4   Cpu               1303 non-null   object \n",
            " 5   Ram               1303 non-null   int32  \n",
            " 6   Memory            1303 non-null   object \n",
            " 7   Gpu               1303 non-null   object \n",
            " 8   OpSys             1303 non-null   object \n",
            " 9   Weight            1303 non-null   float32\n",
            " 10  Price             1303 non-null   float64\n",
            " 11  Touchscreen       1303 non-null   int64  \n",
            " 12  OS                1303 non-null   object \n",
            "dtypes: float32(1), float64(2), int32(1), int64(1), object(8)\n",
            "memory usage: 122.3+ KB\n"
          ]
        }
      ],
      "source": [
        "df.info()"
      ]
    },
    {
      "cell_type": "code",
      "execution_count": 88,
      "metadata": {},
      "outputs": [
        {
          "data": {
            "image/png": "[encoded data removed]",
            "text/plain": [
              "<Figure size 1000x800 with 2 Axes>"
            ]
          },
          "metadata": {},
          "output_type": "display_data"
        }
      ],
      "source": [
        "# exibe a correlação entre as variáveis numéricas\n",
        "\n",
        "# Calcula a matriz de correlação\n",
        "correlation_matrix = df[['Inches', 'Ram', 'Weight', 'Price','Touchscreen']].corr()\n",
        "\n",
        "# exibe a matriz de correlação\n",
        "plt.figure(figsize=(10, 8))\n",
        "sns.heatmap(correlation_matrix, annot=True, cmap='coolwarm', fmt=\".2f\", linewidths=.5)\n",
        "plt.title('Correlation Matrix')\n",
        "plt.show()\n",
        "\n"
      ]
    },
    {
      "cell_type": "markdown",
      "metadata": {
        "id": "24feW7wjGEhP"
      },
      "source": [
        "### Desafio 8\n",
        "\n",
        "Analisando a matriz de correlação acima responda:\n",
        "\n",
        "Qual(is) feature possue a maior correlação com o target?\n",
        "\n",
        "Qual(is) feature não possue correlação com o target?\n"
      ]
    },
    {
      "cell_type": "markdown",
      "metadata": {
        "id": "t5kJf-08GEhS"
      },
      "source": [
        "## PARE!!!\n",
        "\n",
        "Podemos pensar em outras diversas transformações em nossos dados, por hora já está bom. Vamos avançar e criar um sub-dataset com os atributos que serão utilizados para treinar nosso modelo de Machine Learning.\n"
      ]
    },
    {
      "cell_type": "markdown",
      "metadata": {},
      "source": [
        "## Desafio 9\n",
        "\n",
        "- Identificação do Atributo Alvo: Qual é o atributo que queremos prever ou analisar como nossa variável de interesse principal neste conjunto de dados?\n",
        "\n"
      ]
    },
    {
      "cell_type": "code",
      "execution_count": 94,
      "metadata": {
        "colab": {
          "base_uri": "https://localhost:8080/"
        },
        "id": "W0ymNVY5GEhT",
        "outputId": "79ff0175-14dc-4b2e-bdfb-007bee3d22e3"
      },
      "outputs": [
        {
          "name": "stdout",
          "output_type": "stream",
          "text": [
            "Formato das tabelas de dados (1303, 4) e saidas (1303,)\n"
          ]
        }
      ],
      "source": [
        "# Vamos treinar nosso modelo com base no dataset de laptops e prever o preço de um laptop com as seguintes características:\n",
        "\n",
        "\n",
        "X = df[['Inches', 'Ram', 'Weight','Touchscreen']]\n",
        "# X = df.drop(['Price'], axis=1)     ### teste com todas as entradas\n",
        "\n",
        "Y = df['Price']             \n",
        "\n",
        "print(f\"Formato das tabelas de dados {X.shape} e saidas {Y.shape}\")"
      ]
    },
    {
      "cell_type": "markdown",
      "metadata": {
        "id": "YL5lGCaGGEhV"
      },
      "source": [
        "## Dividindo os dados em conjunto de treinamento e de testes\n",
        "\n",
        "Dividir nosso dataset em dois conjuntos de dados.\n",
        "    \n",
        "    Treinamento - Representa 80% das amostras do conjunto de dados original,\n",
        "    Teste - com 20% das amostras\n",
        "\n",
        "Vamos escolher aleatoriamente algumas amostras do conjunto original. Isto pode ser feito com Scikit-Learn usando a função ***train_test_split()***\n",
        "\n",
        "\n",
        "***scikit-learn*** Caso ainda não tenha instalado, no terminal digite:\n",
        "- pip install scikit-learn\n",
        "\n"
      ]
    },
    {
      "cell_type": "code",
      "execution_count": 95,
      "metadata": {
        "colab": {
          "base_uri": "https://localhost:8080/"
        },
        "id": "7jo9AyndGEhW",
        "outputId": "c81de254-08ca-4a1f-88aa-3367210b3f75"
      },
      "outputs": [
        {
          "name": "stdout",
          "output_type": "stream",
          "text": [
            "(1042, 4)\n",
            "(261, 4)\n",
            "(1042,)\n",
            "(261,)\n"
          ]
        }
      ],
      "source": [
        "# Separamos 20% para o teste\n",
        "from sklearn.model_selection import train_test_split\n",
        "\n",
        "X_treino, X_teste, Y_treino, Y_teste = train_test_split(X, Y, test_size=0.2)\n",
        "\n",
        "print(X_treino.shape)\n",
        "print(X_teste.shape)\n",
        "print(Y_treino.shape)\n",
        "print(Y_teste.shape)"
      ]
    },
    {
      "cell_type": "code",
      "execution_count": 96,
      "metadata": {
        "colab": {
          "base_uri": "https://localhost:8080/",
          "height": 206
        },
        "id": "pUzSMnWjGEhX",
        "outputId": "e3b70d88-fb3e-4ff3-8949-c1fcebe2b6f7"
      },
      "outputs": [
        {
          "data": {
            "text/html": [
              "<div>\n",
              "<style scoped>\n",
              "    .dataframe tbody tr th:only-of-type {\n",
              "        vertical-align: middle;\n",
              "    }\n",
              "\n",
              "    .dataframe tbody tr th {\n",
              "        vertical-align: top;\n",
              "    }\n",
              "\n",
              "    .dataframe thead th {\n",
              "        text-align: right;\n",
              "    }\n",
              "</style>\n",
              "<table border=\"1\" class=\"dataframe\">\n",
              "  <thead>\n",
              "    <tr style=\"text-align: right;\">\n",
              "      <th></th>\n",
              "      <th>Inches</th>\n",
              "      <th>Ram</th>\n",
              "      <th>Weight</th>\n",
              "      <th>Touchscreen</th>\n",
              "    </tr>\n",
              "  </thead>\n",
              "  <tbody>\n",
              "    <tr>\n",
              "      <th>119</th>\n",
              "      <td>15.6</td>\n",
              "      <td>8</td>\n",
              "      <td>1.70</td>\n",
              "      <td>0</td>\n",
              "    </tr>\n",
              "    <tr>\n",
              "      <th>438</th>\n",
              "      <td>14.0</td>\n",
              "      <td>24</td>\n",
              "      <td>1.32</td>\n",
              "      <td>0</td>\n",
              "    </tr>\n",
              "    <tr>\n",
              "      <th>24</th>\n",
              "      <td>15.6</td>\n",
              "      <td>8</td>\n",
              "      <td>1.91</td>\n",
              "      <td>0</td>\n",
              "    </tr>\n",
              "    <tr>\n",
              "      <th>1010</th>\n",
              "      <td>15.6</td>\n",
              "      <td>8</td>\n",
              "      <td>2.65</td>\n",
              "      <td>0</td>\n",
              "    </tr>\n",
              "    <tr>\n",
              "      <th>631</th>\n",
              "      <td>15.6</td>\n",
              "      <td>16</td>\n",
              "      <td>2.62</td>\n",
              "      <td>0</td>\n",
              "    </tr>\n",
              "  </tbody>\n",
              "</table>\n",
              "</div>"
            ],
            "text/plain": [
              "      Inches  Ram  Weight  Touchscreen\n",
              "119     15.6    8    1.70            0\n",
              "438     14.0   24    1.32            0\n",
              "24      15.6    8    1.91            0\n",
              "1010    15.6    8    2.65            0\n",
              "631     15.6   16    2.62            0"
            ]
          },
          "execution_count": 96,
          "metadata": {},
          "output_type": "execute_result"
        }
      ],
      "source": [
        "#Primeiras linhas do dataframe \n",
        "X_treino.head()"
      ]
    },
    {
      "cell_type": "code",
      "execution_count": 97,
      "metadata": {
        "colab": {
          "base_uri": "https://localhost:8080/"
        },
        "id": "6uiC83F_GEhY",
        "outputId": "5dae1c66-20f8-4eb2-91c7-2c2a8dd230cc"
      },
      "outputs": [
        {
          "data": {
            "text/plain": [
              "119      59567.04\n",
              "438     126912.96\n",
              "24       35111.52\n",
              "1010     50562.72\n",
              "631      78801.12\n",
              "Name: Price, dtype: float64"
            ]
          },
          "execution_count": 97,
          "metadata": {},
          "output_type": "execute_result"
        }
      ],
      "source": [
        "Y_treino.head()"
      ]
    },
    {
      "cell_type": "markdown",
      "metadata": {
        "id": "TMjB70HIGEhY"
      },
      "source": [
        "## Chegou a hora de aplicar o modelo preditivo\n",
        "\n",
        "Treinar um modelo no python é simples se usar o Scikit-Learn. \n",
        "Treinar um modelo no Scikit-Learn é simples: basta criar o regressor, e chamar o método fit().\n",
        "\n",
        "Uma observação sobre a sintaxe dos classificadores do `scikit-learn`\n",
        "- O método `fit(X,Y)` recebe uma matriz ou dataframe X onde cada linha é uma amostra de aprendizado, e um array Y contendo as saídas esperadas do classificador, seja na forma de texto ou de inteiros\n",
        "- O método `predict(X)` recebe uma matriz ou dataframe X onde cada linha é uma amostra de teste, retornando um array de classes\n",
        "\n"
      ]
    },
    {
      "cell_type": "code",
      "execution_count": 98,
      "metadata": {
        "colab": {
          "base_uri": "https://localhost:8080/"
        },
        "id": "7iPJeoSZGEha",
        "outputId": "9231af1a-ab4f-49b0-82e2-59b70c705ca9"
      },
      "outputs": [
        {
          "data": {
            "text/html": [
              "<style>#sk-container-id-1 {\n",
              "  /* Definition of color scheme common for light and dark mode */\n",
              "  --sklearn-color-text: black;\n",
              "  --sklearn-color-line: gray;\n",
              "  /* Definition of color scheme for unfitted estimators */\n",
              "  --sklearn-color-unfitted-level-0: #fff5e6;\n",
              "  --sklearn-color-unfitted-level-1: #f6e4d2;\n",
              "  --sklearn-color-unfitted-level-2: #ffe0b3;\n",
              "  --sklearn-color-unfitted-level-3: chocolate;\n",
              "  /* Definition of color scheme for fitted estimators */\n",
              "  --sklearn-color-fitted-level-0: #f0f8ff;\n",
              "  --sklearn-color-fitted-level-1: #d4ebff;\n",
              "  --sklearn-color-fitted-level-2: #b3dbfd;\n",
              "  --sklearn-color-fitted-level-3: cornflowerblue;\n",
              "\n",
              "  /* Specific color for light theme */\n",
              "  --sklearn-color-text-on-default-background: var(--sg-text-color, var(--theme-code-foreground, var(--jp-content-font-color1, black)));\n",
              "  --sklearn-color-background: var(--sg-background-color, var(--theme-background, var(--jp-layout-color0, white)));\n",
              "  --sklearn-color-border-box: var(--sg-text-color, var(--theme-code-foreground, var(--jp-content-font-color1, black)));\n",
              "  --sklearn-color-icon: #696969;\n",
              "\n",
              "  @media (prefers-color-scheme: dark) {\n",
              "    /* Redefinition of color scheme for dark theme */\n",
              "    --sklearn-color-text-on-default-background: var(--sg-text-color, var(--theme-code-foreground, var(--jp-content-font-color1, white)));\n",
              "    --sklearn-color-background: var(--sg-background-color, var(--theme-background, var(--jp-layout-color0, #111)));\n",
              "    --sklearn-color-border-box: var(--sg-text-color, var(--theme-code-foreground, var(--jp-content-font-color1, white)));\n",
              "    --sklearn-color-icon: #878787;\n",
              "  }\n",
              "}\n",
              "\n",
              "#sk-container-id-1 {\n",
              "  color: var(--sklearn-color-text);\n",
              "}\n",
              "\n",
              "#sk-container-id-1 pre {\n",
              "  padding: 0;\n",
              "}\n",
              "\n",
              "#sk-container-id-1 input.sk-hidden--visually {\n",
              "  border: 0;\n",
              "  clip: rect(1px 1px 1px 1px);\n",
              "  clip: rect(1px, 1px, 1px, 1px);\n",
              "  height: 1px;\n",
              "  margin: -1px;\n",
              "  overflow: hidden;\n",
              "  padding: 0;\n",
              "  position: absolute;\n",
              "  width: 1px;\n",
              "}\n",
              "\n",
              "#sk-container-id-1 div.sk-dashed-wrapped {\n",
              "  border: 1px dashed var(--sklearn-color-line);\n",
              "  margin: 0 0.4em 0.5em 0.4em;\n",
              "  box-sizing: border-box;\n",
              "  padding-bottom: 0.4em;\n",
              "  background-color: var(--sklearn-color-background);\n",
              "}\n",
              "\n",
              "#sk-container-id-1 div.sk-container {\n",
              "  /* jupyter's `normalize.less` sets `[hidden] { display: none; }`\n",
              "     but bootstrap.min.css set `[hidden] { display: none !important; }`\n",
              "     so we also need the `!important` here to be able to override the\n",
              "     default hidden behavior on the sphinx rendered scikit-learn.org.\n",
              "     See: https://github.com/scikit-learn/scikit-learn/issues/21755 */\n",
              "  display: inline-block !important;\n",
              "  position: relative;\n",
              "}\n",
              "\n",
              "#sk-container-id-1 div.sk-text-repr-fallback {\n",
              "  display: none;\n",
              "}\n",
              "\n",
              "div.sk-parallel-item,\n",
              "div.sk-serial,\n",
              "div.sk-item {\n",
              "  /* draw centered vertical line to link estimators */\n",
              "  background-image: linear-gradient(var(--sklearn-color-text-on-default-background), var(--sklearn-color-text-on-default-background));\n",
              "  background-size: 2px 100%;\n",
              "  background-repeat: no-repeat;\n",
              "  background-position: center center;\n",
              "}\n",
              "\n",
              "/* Parallel-specific style estimator block */\n",
              "\n",
              "#sk-container-id-1 div.sk-parallel-item::after {\n",
              "  content: \"\";\n",
              "  width: 100%;\n",
              "  border-bottom: 2px solid var(--sklearn-color-text-on-default-background);\n",
              "  flex-grow: 1;\n",
              "}\n",
              "\n",
              "#sk-container-id-1 div.sk-parallel {\n",
              "  display: flex;\n",
              "  align-items: stretch;\n",
              "  justify-content: center;\n",
              "  background-color: var(--sklearn-color-background);\n",
              "  position: relative;\n",
              "}\n",
              "\n",
              "#sk-container-id-1 div.sk-parallel-item {\n",
              "  display: flex;\n",
              "  flex-direction: column;\n",
              "}\n",
              "\n",
              "#sk-container-id-1 div.sk-parallel-item:first-child::after {\n",
              "  align-self: flex-end;\n",
              "  width: 50%;\n",
              "}\n",
              "\n",
              "#sk-container-id-1 div.sk-parallel-item:last-child::after {\n",
              "  align-self: flex-start;\n",
              "  width: 50%;\n",
              "}\n",
              "\n",
              "#sk-container-id-1 div.sk-parallel-item:only-child::after {\n",
              "  width: 0;\n",
              "}\n",
              "\n",
              "/* Serial-specific style estimator block */\n",
              "\n",
              "#sk-container-id-1 div.sk-serial {\n",
              "  display: flex;\n",
              "  flex-direction: column;\n",
              "  align-items: center;\n",
              "  background-color: var(--sklearn-color-background);\n",
              "  padding-right: 1em;\n",
              "  padding-left: 1em;\n",
              "}\n",
              "\n",
              "\n",
              "/* Toggleable style: style used for estimator/Pipeline/ColumnTransformer box that is\n",
              "clickable and can be expanded/collapsed.\n",
              "- Pipeline and ColumnTransformer use this feature and define the default style\n",
              "- Estimators will overwrite some part of the style using the `sk-estimator` class\n",
              "*/\n",
              "\n",
              "/* Pipeline and ColumnTransformer style (default) */\n",
              "\n",
              "#sk-container-id-1 div.sk-toggleable {\n",
              "  /* Default theme specific background. It is overwritten whether we have a\n",
              "  specific estimator or a Pipeline/ColumnTransformer */\n",
              "  background-color: var(--sklearn-color-background);\n",
              "}\n",
              "\n",
              "/* Toggleable label */\n",
              "#sk-container-id-1 label.sk-toggleable__label {\n",
              "  cursor: pointer;\n",
              "  display: block;\n",
              "  width: 100%;\n",
              "  margin-bottom: 0;\n",
              "  padding: 0.5em;\n",
              "  box-sizing: border-box;\n",
              "  text-align: center;\n",
              "}\n",
              "\n",
              "#sk-container-id-1 label.sk-toggleable__label-arrow:before {\n",
              "  /* Arrow on the left of the label */\n",
              "  content: \"▸\";\n",
              "  float: left;\n",
              "  margin-right: 0.25em;\n",
              "  color: var(--sklearn-color-icon);\n",
              "}\n",
              "\n",
              "#sk-container-id-1 label.sk-toggleable__label-arrow:hover:before {\n",
              "  color: var(--sklearn-color-text);\n",
              "}\n",
              "\n",
              "/* Toggleable content - dropdown */\n",
              "\n",
              "#sk-container-id-1 div.sk-toggleable__content {\n",
              "  max-height: 0;\n",
              "  max-width: 0;\n",
              "  overflow: hidden;\n",
              "  text-align: left;\n",
              "  /* unfitted */\n",
              "  background-color: var(--sklearn-color-unfitted-level-0);\n",
              "}\n",
              "\n",
              "#sk-container-id-1 div.sk-toggleable__content.fitted {\n",
              "  /* fitted */\n",
              "  background-color: var(--sklearn-color-fitted-level-0);\n",
              "}\n",
              "\n",
              "#sk-container-id-1 div.sk-toggleable__content pre {\n",
              "  margin: 0.2em;\n",
              "  border-radius: 0.25em;\n",
              "  color: var(--sklearn-color-text);\n",
              "  /* unfitted */\n",
              "  background-color: var(--sklearn-color-unfitted-level-0);\n",
              "}\n",
              "\n",
              "#sk-container-id-1 div.sk-toggleable__content.fitted pre {\n",
              "  /* unfitted */\n",
              "  background-color: var(--sklearn-color-fitted-level-0);\n",
              "}\n",
              "\n",
              "#sk-container-id-1 input.sk-toggleable__control:checked~div.sk-toggleable__content {\n",
              "  /* Expand drop-down */\n",
              "  max-height: 200px;\n",
              "  max-width: 100%;\n",
              "  overflow: auto;\n",
              "}\n",
              "\n",
              "#sk-container-id-1 input.sk-toggleable__control:checked~label.sk-toggleable__label-arrow:before {\n",
              "  content: \"▾\";\n",
              "}\n",
              "\n",
              "/* Pipeline/ColumnTransformer-specific style */\n",
              "\n",
              "#sk-container-id-1 div.sk-label input.sk-toggleable__control:checked~label.sk-toggleable__label {\n",
              "  color: var(--sklearn-color-text);\n",
              "  background-color: var(--sklearn-color-unfitted-level-2);\n",
              "}\n",
              "\n",
              "#sk-container-id-1 div.sk-label.fitted input.sk-toggleable__control:checked~label.sk-toggleable__label {\n",
              "  background-color: var(--sklearn-color-fitted-level-2);\n",
              "}\n",
              "\n",
              "/* Estimator-specific style */\n",
              "\n",
              "/* Colorize estimator box */\n",
              "#sk-container-id-1 div.sk-estimator input.sk-toggleable__control:checked~label.sk-toggleable__label {\n",
              "  /* unfitted */\n",
              "  background-color: var(--sklearn-color-unfitted-level-2);\n",
              "}\n",
              "\n",
              "#sk-container-id-1 div.sk-estimator.fitted input.sk-toggleable__control:checked~label.sk-toggleable__label {\n",
              "  /* fitted */\n",
              "  background-color: var(--sklearn-color-fitted-level-2);\n",
              "}\n",
              "\n",
              "#sk-container-id-1 div.sk-label label.sk-toggleable__label,\n",
              "#sk-container-id-1 div.sk-label label {\n",
              "  /* The background is the default theme color */\n",
              "  color: var(--sklearn-color-text-on-default-background);\n",
              "}\n",
              "\n",
              "/* On hover, darken the color of the background */\n",
              "#sk-container-id-1 div.sk-label:hover label.sk-toggleable__label {\n",
              "  color: var(--sklearn-color-text);\n",
              "  background-color: var(--sklearn-color-unfitted-level-2);\n",
              "}\n",
              "\n",
              "/* Label box, darken color on hover, fitted */\n",
              "#sk-container-id-1 div.sk-label.fitted:hover label.sk-toggleable__label.fitted {\n",
              "  color: var(--sklearn-color-text);\n",
              "  background-color: var(--sklearn-color-fitted-level-2);\n",
              "}\n",
              "\n",
              "/* Estimator label */\n",
              "\n",
              "#sk-container-id-1 div.sk-label label {\n",
              "  font-family: monospace;\n",
              "  font-weight: bold;\n",
              "  display: inline-block;\n",
              "  line-height: 1.2em;\n",
              "}\n",
              "\n",
              "#sk-container-id-1 div.sk-label-container {\n",
              "  text-align: center;\n",
              "}\n",
              "\n",
              "/* Estimator-specific */\n",
              "#sk-container-id-1 div.sk-estimator {\n",
              "  font-family: monospace;\n",
              "  border: 1px dotted var(--sklearn-color-border-box);\n",
              "  border-radius: 0.25em;\n",
              "  box-sizing: border-box;\n",
              "  margin-bottom: 0.5em;\n",
              "  /* unfitted */\n",
              "  background-color: var(--sklearn-color-unfitted-level-0);\n",
              "}\n",
              "\n",
              "#sk-container-id-1 div.sk-estimator.fitted {\n",
              "  /* fitted */\n",
              "  background-color: var(--sklearn-color-fitted-level-0);\n",
              "}\n",
              "\n",
              "/* on hover */\n",
              "#sk-container-id-1 div.sk-estimator:hover {\n",
              "  /* unfitted */\n",
              "  background-color: var(--sklearn-color-unfitted-level-2);\n",
              "}\n",
              "\n",
              "#sk-container-id-1 div.sk-estimator.fitted:hover {\n",
              "  /* fitted */\n",
              "  background-color: var(--sklearn-color-fitted-level-2);\n",
              "}\n",
              "\n",
              "/* Specification for estimator info (e.g. \"i\" and \"?\") */\n",
              "\n",
              "/* Common style for \"i\" and \"?\" */\n",
              "\n",
              ".sk-estimator-doc-link,\n",
              "a:link.sk-estimator-doc-link,\n",
              "a:visited.sk-estimator-doc-link {\n",
              "  float: right;\n",
              "  font-size: smaller;\n",
              "  line-height: 1em;\n",
              "  font-family: monospace;\n",
              "  background-color: var(--sklearn-color-background);\n",
              "  border-radius: 1em;\n",
              "  height: 1em;\n",
              "  width: 1em;\n",
              "  text-decoration: none !important;\n",
              "  margin-left: 1ex;\n",
              "  /* unfitted */\n",
              "  border: var(--sklearn-color-unfitted-level-1) 1pt solid;\n",
              "  color: var(--sklearn-color-unfitted-level-1);\n",
              "}\n",
              "\n",
              ".sk-estimator-doc-link.fitted,\n",
              "a:link.sk-estimator-doc-link.fitted,\n",
              "a:visited.sk-estimator-doc-link.fitted {\n",
              "  /* fitted */\n",
              "  border: var(--sklearn-color-fitted-level-1) 1pt solid;\n",
              "  color: var(--sklearn-color-fitted-level-1);\n",
              "}\n",
              "\n",
              "/* On hover */\n",
              "div.sk-estimator:hover .sk-estimator-doc-link:hover,\n",
              ".sk-estimator-doc-link:hover,\n",
              "div.sk-label-container:hover .sk-estimator-doc-link:hover,\n",
              ".sk-estimator-doc-link:hover {\n",
              "  /* unfitted */\n",
              "  background-color: var(--sklearn-color-unfitted-level-3);\n",
              "  color: var(--sklearn-color-background);\n",
              "  text-decoration: none;\n",
              "}\n",
              "\n",
              "div.sk-estimator.fitted:hover .sk-estimator-doc-link.fitted:hover,\n",
              ".sk-estimator-doc-link.fitted:hover,\n",
              "div.sk-label-container:hover .sk-estimator-doc-link.fitted:hover,\n",
              ".sk-estimator-doc-link.fitted:hover {\n",
              "  /* fitted */\n",
              "  background-color: var(--sklearn-color-fitted-level-3);\n",
              "  color: var(--sklearn-color-background);\n",
              "  text-decoration: none;\n",
              "}\n",
              "\n",
              "/* Span, style for the box shown on hovering the info icon */\n",
              ".sk-estimator-doc-link span {\n",
              "  display: none;\n",
              "  z-index: 9999;\n",
              "  position: relative;\n",
              "  font-weight: normal;\n",
              "  right: .2ex;\n",
              "  padding: .5ex;\n",
              "  margin: .5ex;\n",
              "  width: min-content;\n",
              "  min-width: 20ex;\n",
              "  max-width: 50ex;\n",
              "  color: var(--sklearn-color-text);\n",
              "  box-shadow: 2pt 2pt 4pt #999;\n",
              "  /* unfitted */\n",
              "  background: var(--sklearn-color-unfitted-level-0);\n",
              "  border: .5pt solid var(--sklearn-color-unfitted-level-3);\n",
              "}\n",
              "\n",
              ".sk-estimator-doc-link.fitted span {\n",
              "  /* fitted */\n",
              "  background: var(--sklearn-color-fitted-level-0);\n",
              "  border: var(--sklearn-color-fitted-level-3);\n",
              "}\n",
              "\n",
              ".sk-estimator-doc-link:hover span {\n",
              "  display: block;\n",
              "}\n",
              "\n",
              "/* \"?\"-specific style due to the `<a>` HTML tag */\n",
              "\n",
              "#sk-container-id-1 a.estimator_doc_link {\n",
              "  float: right;\n",
              "  font-size: 1rem;\n",
              "  line-height: 1em;\n",
              "  font-family: monospace;\n",
              "  background-color: var(--sklearn-color-background);\n",
              "  border-radius: 1rem;\n",
              "  height: 1rem;\n",
              "  width: 1rem;\n",
              "  text-decoration: none;\n",
              "  /* unfitted */\n",
              "  color: var(--sklearn-color-unfitted-level-1);\n",
              "  border: var(--sklearn-color-unfitted-level-1) 1pt solid;\n",
              "}\n",
              "\n",
              "#sk-container-id-1 a.estimator_doc_link.fitted {\n",
              "  /* fitted */\n",
              "  border: var(--sklearn-color-fitted-level-1) 1pt solid;\n",
              "  color: var(--sklearn-color-fitted-level-1);\n",
              "}\n",
              "\n",
              "/* On hover */\n",
              "#sk-container-id-1 a.estimator_doc_link:hover {\n",
              "  /* unfitted */\n",
              "  background-color: var(--sklearn-color-unfitted-level-3);\n",
              "  color: var(--sklearn-color-background);\n",
              "  text-decoration: none;\n",
              "}\n",
              "\n",
              "#sk-container-id-1 a.estimator_doc_link.fitted:hover {\n",
              "  /* fitted */\n",
              "  background-color: var(--sklearn-color-fitted-level-3);\n",
              "}\n",
              "</style><div id=\"sk-container-id-1\" class=\"sk-top-container\"><div class=\"sk-text-repr-fallback\"><pre>LinearRegression()</pre><b>In a Jupyter environment, please rerun this cell to show the HTML representation or trust the notebook. <br />On GitHub, the HTML representation is unable to render, please try loading this page with nbviewer.org.</b></div><div class=\"sk-container\" hidden><div class=\"sk-item\"><div class=\"sk-estimator fitted sk-toggleable\"><input class=\"sk-toggleable__control sk-hidden--visually\" id=\"sk-estimator-id-1\" type=\"checkbox\" checked><label for=\"sk-estimator-id-1\" class=\"sk-toggleable__label fitted sk-toggleable__label-arrow fitted\">&nbsp;&nbsp;LinearRegression<a class=\"sk-estimator-doc-link fitted\" rel=\"noreferrer\" target=\"_blank\" href=\"https://scikit-learn.org/1.4/modules/generated/sklearn.linear_model.LinearRegression.html\">?<span>Documentation for LinearRegression</span></a><span class=\"sk-estimator-doc-link fitted\">i<span>Fitted</span></span></label><div class=\"sk-toggleable__content fitted\"><pre>LinearRegression()</pre></div> </div></div></div></div>"
            ],
            "text/plain": [
              "LinearRegression()"
            ]
          },
          "execution_count": 98,
          "metadata": {},
          "output_type": "execute_result"
        }
      ],
      "source": [
        "# Importa a biblioteca\n",
        "from sklearn.linear_model import LinearRegression\n",
        "from sklearn.metrics import mean_squared_error\n",
        "\n",
        "# Cria o modelo de regressão \n",
        "lin_model = LinearRegression()\n",
        "\n",
        "# Cria o modelo de machine learning\n",
        "lin_model.fit(X_treino, Y_treino)\n",
        "\n",
        "\n"
      ]
    },
    {
      "cell_type": "markdown",
      "metadata": {
        "id": "nIirauaEGEhb"
      },
      "source": [
        "Pronto!! bora testar se esta funcionando....\n"
      ]
    },
    {
      "cell_type": "code",
      "execution_count": 99,
      "metadata": {
        "colab": {
          "base_uri": "https://localhost:8080/"
        },
        "id": "m2uidDadGEhc",
        "outputId": "6009cc0b-2ced-4c44-8a0d-b988c5c66611"
      },
      "outputs": [
        {
          "name": "stdout",
          "output_type": "stream",
          "text": [
            "Predição usando regressão, retorna valores continuos: [100034.37969786  59932.48674075  28480.27437865  59685.46857027\n",
            "  54085.85527543  99275.47252861  43184.31534678  32354.91705733\n",
            "  36263.18833347  63602.67213891  64228.45109843  62957.03363296\n",
            "  58323.48378503 107077.6245361   50573.50573024  60228.9082705\n",
            "  99470.31655009  54448.14840892  32667.80663524  32519.59596852\n",
            "  54481.08411263  54514.01981635  54711.63443126  32338.44920547\n",
            "  54184.66258289  68103.09397342  57697.70482551  54596.35907564\n",
            "  31959.68841644  99458.0040976   60320.1800186   58685.77691852\n",
            "  54777.50583869  32848.9533983   21374.17318158  31959.68841644\n",
            "  50655.84498953  65771.58264672  54942.18435727  36526.6741595\n",
            "  28480.27437865  59932.48674075  50738.18424882  58027.06205897\n",
            "  99622.6830088   31959.68841644  37634.10560752  59932.48674075\n",
            "  54184.66258289  32354.91705733  54415.2127052   53405.97899809\n",
            "  32848.9533983   32190.23853875  36427.86704835 183667.48320055\n",
            "  37699.97701495  32354.91705733 109859.23784614  32519.59596852\n",
            "  33260.65008736  65969.19706532  32190.23853875  55518.55995753\n",
            "  32190.23853875 104612.98499966  59932.48674075  39609.22931373\n",
            "  36049.10606301  35686.81292952 107822.0703495   65458.69306881\n",
            "  58570.50175921  56424.29259494 100281.39747572  99243.92202346\n",
            "  32519.59596852  55106.86326847  98354.65704159  25216.57265767\n",
            "  97460.69810117  36954.83870042 104440.77092174  36839.56373741\n",
            "  51676.04011968  32519.59596852  32684.2744871   32305.51350175\n",
            "  59800.74372958  39609.22931373  65359.88595766  32519.59596852\n",
            "  31943.22056458  55271.54178704  36839.56373741  55370.34889819\n",
            "  65969.19706532  32354.91705733  32486.66026481  50557.03787839\n",
            "  31959.68841644  54942.18435727 103613.29334792  38152.14496708\n",
            " 105638.76988583  54942.18435727  41970.54122826  36510.20630764\n",
            "  59463.85093677  98218.22007186  66002.13276904  65376.35380952\n",
            "  77035.41570886  51298.09199722  57747.10838109  99622.6830088\n",
            "  55419.75245376  51726.25653814  32848.9533983   32437.25670924\n",
            "  32848.9533983   77051.88356072  32354.91705733  32519.59596852\n",
            "  32519.59596852  99787.36152738  31490.67596647  97559.50521232\n",
            "  58586.96961106  60064.22955561  42561.67150314 102542.88179931\n",
            "  54250.53399032  32585.46737595 109760.43053868  31959.68841644\n",
            "  54925.71650541  54777.50583869  98218.22007186  60261.84397421\n",
            "  32354.91705733  60344.18342981  58685.77691852  43632.08305175\n",
            " 102822.83567351  60261.84397421  99935.57219409  32042.02767572\n",
            "  55469.15600933  50738.18424882  96867.85504168 100956.58018713\n",
            "  53954.11246057  32848.9533983   94595.28952223  54826.90939427\n",
            "  54612.82692749  58521.09820363  32568.9995241   98634.61071948\n",
            "  54530.48766821  54448.14840892  67297.55364572  95418.68290035\n",
            "  62561.80479576 109974.51280914  38069.80570779  55106.86326847\n",
            "  32289.0456499  100940.11233527  54514.01981635  77200.09422744\n",
            "  28480.27437865  50573.50573024  55436.22030562  32190.23853875\n",
            "  54777.50583869  31860.88110898  32684.2744871   43813.22942218\n",
            "  99293.32557903  59767.80802587  43236.85421455  32025.55982386\n",
            "  94644.6930778   60163.03686307  32848.9533983  100582.59609492\n",
            "  55271.54178704  36164.38102601  54217.5982866   58323.48378503\n",
            "  43648.55090361  67495.16806432  32256.10994618  54777.50583869\n",
            "  55271.54178704  57747.10838109  60080.69740747  54744.57013498\n",
            "  32354.91705733  54448.14840892  65936.26136161  54777.50583869\n",
            "  36839.56373741  54991.58791284  99293.32557903  65244.61079835\n",
            "  58586.96961106  54777.50583869  35999.70250744  31959.68841644\n",
            "  54448.14840892 101121.2587057   95418.68290035  59892.01547769\n",
            "  97230.14817517  96159.73662656  54217.5982866  104201.2883106\n",
            "  54448.14840892  98766.35373065  54777.50583869  50573.50573024\n",
            "  42751.37391273  97822.99162729  54365.80914963  65326.95025395\n",
            "  71060.38425964  58422.29089618  51298.09199722  32519.59596852\n",
            "  54826.90939427  43977.90833338  54777.50583869  32042.02767572\n",
            "  99787.36152738 104925.87457758  28809.63180842  65376.35380952\n",
            "  36329.0597409   58768.11617781  65590.43607998  97724.18451614\n",
            "  32009.09197201  60410.05483724  59924.9511814   37921.59484476\n",
            "  31860.88110898  60410.05483724 102279.39597328  36786.33236852\n",
            "  62561.80479576  95138.72902615 100034.37969786  54942.18435727\n",
            "  99787.36152738  50458.23076724 193472.41040241  32025.55982386\n",
            "  32717.21019081]\n"
          ]
        }
      ],
      "source": [
        "# Para obter as previsões, basta chamar o método predict()\n",
        "y_teste_predito = lin_model.predict(X_teste)\n",
        "print(\"Predição usando regressão, retorna valores continuos: {}\".format(y_teste_predito))\n"
      ]
    },
    {
      "cell_type": "markdown",
      "metadata": {
        "id": "CdSoQ0mOGEhg"
      },
      "source": [
        "## Avaliando o modelo treinado\n",
        "\n",
        "Vamos colocar alguns valores e ver a predição do classificador. "
      ]
    },
    {
      "cell_type": "code",
      "execution_count": 100,
      "metadata": {
        "colab": {
          "base_uri": "https://localhost:8080/"
        },
        "id": "v0PsirNfGEhg",
        "outputId": "d275cf9c-7148-4524-ba2e-b9f0f91479f8"
      },
      "outputs": [
        {
          "name": "stdout",
          "output_type": "stream",
          "text": [
            "Soma dos Erros ao Quadrado (SSE): 177032003697 \n",
            "Erro Quadrático Médio (MSE): 678283539.07\n",
            "Erro Médio Absoluto (MAE): 19312.26\n",
            "Raiz do Erro Quadrático Médio (RMSE): 26043.88 \n",
            "R2-score: 0.02\n"
          ]
        }
      ],
      "source": [
        "from sklearn.metrics import r2_score, mean_squared_error,mean_absolute_error\n",
        "import numpy as np\n",
        "\n",
        "print(\"Soma dos Erros ao Quadrado (SSE): %2.f \" % np.sum((y_teste_predito - Y_teste)**2))\n",
        "print(\"Erro Quadrático Médio (MSE): %.2f\" % mean_squared_error(Y_teste, y_teste_predito))\n",
        "print(\"Erro Médio Absoluto (MAE): %.2f\" % mean_absolute_error(Y_teste, y_teste_predito))\n",
        "print (\"Raiz do Erro Quadrático Médio (RMSE): %.2f \" % np.sqrt(mean_squared_error(Y_teste, y_teste_predito)))\n",
        "print(\"R2-score: %.2f\" % r2_score(y_teste_predito , Y_teste) )"
      ]
    },
    {
      "cell_type": "markdown",
      "metadata": {
        "id": "55ybkZJ3GEhh"
      },
      "source": [
        "### Desafio 10\n",
        "\n",
        "Refaça o notebook substituindo o algoritmo de regressão linear por outro algoritmo de regressão e compare os resultados obtidos.\n",
        "\n",
        "Sugestão de alguns algoritmos de ML para problemas de regressão:\n",
        "\n",
        "| Nome | Vantagem | Desvantagem | Exemplo sklearn |\n",
        "|:---:|:---:|:---:|:---:|\n",
        "| Regressão Linear | Fácil de entender e implementar | Pode não ser adequado para problemas mais complexos | from sklearn.linear_model import LinearRegression<br><br><br>model = LinearRegression()<br>model.fit(X, y)<br>prediction = model.predict([X_teste]) |\n",
        "| Árvores de decisão | Fácil de entender e visualizar | Pode levar a overfitting se a árvore for muito grande | from sklearn.tree import DecisionTreeRegressor<br><br><br>model = DecisionTreeRegressor()<br>model.fit(X, y)<br>prediction = model.predict([X_teste]) |\n",
        "| Random Forest | Mais robusto e geralmente mais preciso do que uma única árvore de decisão | Pode ser mais lento e mais difícil de ajustar | from sklearn.ensemble import RandomForestRegressor<br><br><br>model = RandomForestRegressor(n_estimators=100)<br>model.fit(X, y)<br>prediction = model.predict([X_teste]) |\n",
        "| Support Vector Regression (SVR) | Lida bem com dados multidimensionais e não lineares | Pode ser difícil de escolher o kernel correto e ajustar os hiperparâmetros | from sklearn.svm import SVR<br><br><br>model = SVR(kernel='rbf')<br>model.fit(X, y)<br>prediction = model.predict([X_teste]) |\n",
        "| Gradient Boosting | Preciso e lida bem com dados multidimensionais e não lineares | Pode ser mais lento e mais difícil de ajustar | from sklearn.ensemble import GradientBoostingRegressor<br><br><br>model = GradientBoostingRegressor(n_estimators=100)<br>model.fit(X, y)<br>prediction = model.predict([X_teste]) |\n",
        "|  |  |  |  |\n",
        "\n",
        "\n"
      ]
    },
    {
      "cell_type": "code",
      "execution_count": 21,
      "metadata": {
        "id": "Y76aidQOGEhi"
      },
      "outputs": [],
      "source": [
        "## implemente sua sua solução....\n",
        "\n",
        "\n"
      ]
    },
    {
      "cell_type": "markdown",
      "metadata": {},
      "source": [
        "## Exportando o Modelo\n",
        "\n",
        "Agora que concluímos o treinamento do nosso modelo, é hora de salvá-lo para que possamos reutilizá-lo posteriormente. Isso nos permitirá aplicar o modelo a novos dados sem precisar treiná-lo novamente, economizando tempo e recursos."
      ]
    },
    {
      "cell_type": "code",
      "execution_count": 101,
      "metadata": {},
      "outputs": [
        {
          "data": {
            "text/plain": [
              "['modelo_treinado.joblib']"
            ]
          },
          "execution_count": 101,
          "metadata": {},
          "output_type": "execute_result"
        }
      ],
      "source": [
        "import joblib\n",
        "\n",
        "# Supondo que seu modelo treinado seja armazenado na variável `model`\n",
        "joblib.dump(lin_model, 'modelo_treinado.joblib')\n"
      ]
    },
    {
      "cell_type": "code",
      "execution_count": 102,
      "metadata": {},
      "outputs": [],
      "source": [
        "# Para carregar o modelo posteriormente\n",
        "\n",
        "model = joblib.load('modelo_treinado.joblib')\n"
      ]
    },
    {
      "cell_type": "markdown",
      "metadata": {
        "id": "_4wuW-exGEhj"
      },
      "source": [
        "## Regressão Polinomial\n",
        "\n",
        "$$\n",
        "Y = A + BX + C X² \\\\\n",
        "$$\n",
        "A, B e C são constantes que determinam a posição e inclinação da curva, o 2 indica o grau do polinômio. Para cada valor de X temos um Y associado.\n",
        "\n",
        "    Em machine learning aprendemos que uma Regressão Polinomial é:\n",
        "\n",
        "$$\n",
        "Y_{predito} = \\beta_o + \\beta_1X + \\beta_2X² \\\\\n",
        "$$\n",
        "\n",
        "$ \\beta_o $ , $ \\beta_1 $ e $ \\beta_2 $ são parâmetros que determinam o peso da rede. Para cada entrada $ X $ temos um $ Y_{predito} $ aproximado predito.\n",
        "\n",
        "\n",
        "Essa ideia se estende para polinômio de graus maiores:\n",
        "\n",
        "$$\n",
        "Y_{predito} = \\beta_o + \\beta_1X + \\beta_2X² + ... + \\beta_nX^n\\\\\n",
        "$$\n",
        "\n"
      ]
    },
    {
      "cell_type": "code",
      "execution_count": 103,
      "metadata": {
        "colab": {
          "base_uri": "https://localhost:8080/",
          "height": 352
        },
        "id": "EAtt3oBsGEhk",
        "outputId": "d9820fb7-df34-4e81-a152-91fa651a772d"
      },
      "outputs": [
        {
          "name": "stdout",
          "output_type": "stream",
          "text": [
            "Soma dos Erros ao Quadrado (SSE): 602124 \n",
            "Erro Quadrático Médio (MSE): 20070.81\n",
            "Erro Médio Absoluto (MAE): 104.66\n",
            "Raiz do Erro Quadrático Médio (RMSE): 141.67 \n",
            "R2-score: 0.55\n"
          ]
        },
        {
          "data": {
            "image/png": "[encoded data removed]",
            "text/plain": [
              "<Figure size 640x480 with 1 Axes>"
            ]
          },
          "metadata": {},
          "output_type": "display_data"
        }
      ],
      "source": [
        "import operator\n",
        "\n",
        "import numpy as np\n",
        "import matplotlib.pyplot as plt\n",
        "\n",
        "from sklearn.linear_model import LinearRegression\n",
        "from sklearn.metrics import mean_squared_error, r2_score, mean_absolute_error\n",
        "\n",
        "# importa feature polinomial\n",
        "from sklearn.preprocessing import PolynomialFeatures\n",
        "\n",
        "#####----------- vou gerar alguns numeros aleatórios ------------------\n",
        "\n",
        "#gerando numeros aleatorios, apenas para este exemplo\n",
        "np.random.seed(42)\n",
        "x = 2 - 3 * np.random.normal(0, 1, 30)\n",
        "y = x - 3 * (x ** 2) + 0.8 * (x ** 3)+ 0.2 * (x ** 4) + np.random.normal(-20, 20, 30)\n",
        "\n",
        "# ajuste nos dados, pois estamos trabalhando com a numpy \n",
        "x = x[:, np.newaxis]\n",
        "y = y[:, np.newaxis]\n",
        "####---------------pronto já temos os dados para treinar -------------\n",
        "\n",
        "\n",
        "#----É aqui que o seu código muda ------------------------------------\n",
        "\n",
        "# Chama a função definindo o grau do polinomio e aplica o modelo\n",
        "\n",
        "grau_poly = 1\n",
        "polynomial_features= PolynomialFeatures(degree = grau_poly)\n",
        "x_poly = polynomial_features.fit_transform(x)\n",
        "\n",
        "#----Pronto agora é tudo como era antes, com regressão linear\n",
        "\n",
        "\n",
        "model = LinearRegression()\n",
        "model.fit(x_poly, y)\n",
        "y_poly_pred = model.predict(x_poly)\n",
        "\n",
        "# Métrica de avaliação do modelo\n",
        "print(\"Soma dos Erros ao Quadrado (SSE): %2.f \" % np.sum((y_poly_pred - y)**2))\n",
        "print(\"Erro Quadrático Médio (MSE): %.2f\" % mean_squared_error(y,y_poly_pred))\n",
        "print(\"Erro Médio Absoluto (MAE): %.2f\" % mean_absolute_error(y, y_poly_pred))\n",
        "print (\"Raiz do Erro Quadrático Médio (RMSE): %.2f \" % np.sqrt(mean_squared_error(y, y_poly_pred)))\n",
        "print(\"R2-score: %.2f\" % r2_score(y,y_poly_pred) )\n",
        "\n",
        "\n",
        "plt.scatter(x, y, s=10)\n",
        "# ordena os valores de x antes de plotar\n",
        "sort_axis = operator.itemgetter(0)\n",
        "sorted_zip = sorted(zip(x,y_poly_pred), key=sort_axis)\n",
        "x, y_poly_pred = zip(*sorted_zip)\n",
        "\n",
        "plt.plot(x, y_poly_pred, color='r')\n",
        "plt.show()"
      ]
    },
    {
      "cell_type": "markdown",
      "metadata": {
        "id": "8u4ad6gpGEhl"
      },
      "source": [
        "### Desafio 11\n",
        "\n",
        "Faça uma função que calcula a regressão polinomial (basicamente colocar o codigo acima em uma função), agora faça um código que chama essa função alterando o grau do polinomio de 2 até 10, basicamente um loop for que chama a função criada. \n",
        "\n",
        "Análise os resultados obtidos e determine qual o melhor grau polinomio do seu modelo. "
      ]
    },
    {
      "cell_type": "code",
      "execution_count": 23,
      "metadata": {
        "id": "uJA_U_n1GEhm"
      },
      "outputs": [],
      "source": [
        "## Implemente sua solução\n",
        "\n",
        "\n",
        "\n",
        "\n"
      ]
    },
    {
      "cell_type": "markdown",
      "metadata": {
        "id": "2PLNxsRIGEhn"
      },
      "source": []
    }
  ],
  "metadata": {
    "colab": {
      "include_colab_link": true,
      "provenance": []
    },
    "kernelspec": {
      "display_name": "Python 3.9.5 64-bit",
      "language": "python",
      "name": "python3"
    },
    "language_info": {
      "codemirror_mode": {
        "name": "ipython",
        "version": 3
      },
      "file_extension": ".py",
      "mimetype": "text/x-python",
      "name": "python",
      "nbconvert_exporter": "python",
      "pygments_lexer": "ipython3",
      "version": "3.9.6"
    },
    "vscode": {
      "interpreter": {
        "hash": "8d68938bd6f1c8d824a292cb48fdc812f23ce0d2e12c844cec6ac89d2f668725"
      }
    }
  },
  "nbformat": 4,
  "nbformat_minor": 0
}
